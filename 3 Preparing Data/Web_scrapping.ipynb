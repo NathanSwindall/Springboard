{
 "cells": [
  {
   "cell_type": "markdown",
   "metadata": {},
   "source": [
    "# Web Scrapping\n"
   ]
  },
  {
   "cell_type": "code",
   "execution_count": null,
   "metadata": {},
   "outputs": [],
   "source": []
  },
  {
   "cell_type": "code",
   "execution_count": 31,
   "metadata": {},
   "outputs": [
    {
     "name": "stdout",
     "output_type": "stream",
     "text": [
      "This item does not have a title, so it could be something else\n"
     ]
    },
    {
     "data": {
      "text/plain": [
       "'ZOTAC GAMING GeForce RTX 2060 6GB GDDR6 192-bit Gaming Graphics Card, Super Compact, ZT-T20600K-10M'"
      ]
     },
     "execution_count": 31,
     "metadata": {},
     "output_type": "execute_result"
    }
   ],
   "source": [
    "#import the web scrapping libraries that you need\n",
    "from urllib.request import urlopen as uReq\n",
    "from bs4 import BeautifulSoup as soup\n",
    "\n",
    "#get the url for the graphics website\n",
    "graphics_card = 'https://www.newegg.com/p/pl?d=graphics+card'\n",
    "\n",
    "#opening connection and grabing the page\n",
    "uClient = uReq(graphics_card) #This will go and download the actual the html page\n",
    "page_html = uClient.read() #This will dump all the data from the page\n",
    "uClient.close() # for any web client you want to make sure and close the connection\n",
    "\n",
    "#we need to parse the text because it is a mess of html\n",
    "page_soup = soup(page_html, \"html.parser\") #soup is standard notation, you also need to specify what type of file it is\n",
    "\n",
    "containers = page_soup.findAll(\"div\", {\"class\": \"item-cell\"})\n",
    "\n",
    "#how to get title of the camera\n",
    "first_container = containers[0]\n",
    "first_container.div.div.div.a.img[\"title\"]\n",
    "\n",
    "titles = []\n",
    "for graph_card in containers:\n",
    "    try:\n",
    "        graphs_card = titles.append(graph_card.div.div.div.a.img[\"title\"])\n",
    "    except:\n",
    "        print(\"This item does not have a title, so it could be something else\")\n",
    "\n",
    "# Let's find the name tag\n",
    "name_tag1 = first_container.findAll(\"a\", {\"class\": \"item-title\"})\n",
    "name_tag1[0].text #findAll actually gives you a list back, thus you need to get something else\n",
    "# text is just the middle stuff between the html tag\n",
    "\n",
    "#So lets get the names of all the stuff\n",
    "names = []\n",
    "for graph_card in containers:\n",
    "    try:\n",
    "        name = graph_card.findAll(\"a\", {\"class\": \"item-title\"})\n",
    "        name.append()\n",
    "    except:\n",
    "        print(\"There was nothing found\")\n",
    "\n",
    "\n"
   ]
  },
  {
   "cell_type": "code",
   "execution_count": 33,
   "metadata": {},
   "outputs": [
    {
     "name": "stdout",
     "output_type": "stream",
     "text": [
      "There was nothing found\n"
     ]
    },
    {
     "data": {
      "text/plain": [
       "[('ZOTAC',\n",
       "  'ZOTAC GAMING GeForce RTX 2060 6GB GDDR6 192-bit Gaming Graphics Card, Super Compact, ZT-T20600K-10M'),\n",
       " ('GIGABYTE',\n",
       "  'GIGABYTE Geforce RTX 2060 OC 6G Graphics Card, 2 x WINDFORCE Fans, 6GB 192-Bit GDDR6, GV-N2060OC-6GD Video Card'),\n",
       " ('MSI',\n",
       "  'MSI GeForce GTX 1660 SUPER DirectX 12 GTX 1660 SUPER VENTUS XS OC 6GB 192-Bit GDDR6 PCI Express 3.0 x16 HDCP Ready Video Card'),\n",
       " ('NVIDIA',\n",
       "  'NVIDIA TITAN RTX DirectX 12 900-1G150-2500-000 SB 24GB 384-Bit GDDR6 PCI Express 3.0 x16 HDCP Ready Video Card'),\n",
       " ('GIGABYTE',\n",
       "  'GIGABYTE Radeon RX 580 GAMING 8G (rev. 2.0) Graphics Card, PCIe 3.0, 8GB 256-Bit GDDR5, GV-RX580GAMING-8GD REV2.0 Video Card'),\n",
       " ('MSI',\n",
       "  'MSI GeForce RTX 2070 SUPER DirectX 12 RTX 2070 Super GAMING X 8GB 256-Bit GDDR6 PCI Express 3.0 x16 HDCP Ready SLI Support Video Card'),\n",
       " ('EVGA',\n",
       "  'EVGA GeForce RTX 2060 KO GAMING Video Card, 06G-P4-2066-KR, 6GB GDDR6, Dual Fans, Metal Backplate'),\n",
       " ('GIGABYTE',\n",
       "  'GIGABYTE GeForce GTX 1650 SUPER WINDFORCE OC 4G Graphics Card, 2 x WINDFORCE Fans, 4GB 128-Bit GDDR6, GV-N165SWF2OC-4GD Video Card'),\n",
       " ('MSI',\n",
       "  'MSI GeForce GTX 1660 Ti DirectX 12 GTX 1660 TI GAMING X 6G 6GB 192-Bit GDDR6 PCI Express 3.0 x16 HDCP Ready Video Card'),\n",
       " ('ASUS',\n",
       "  'ASUS GeForce GTX 1660 Super Overclocked 6GB Dual-fan EVO Edition VR Ready HDMI DisplayPort DVI Graphics Card (DUAL-GTX1660S-O6G-EVO)'),\n",
       " ('MSI',\n",
       "  'MSI GeForce RTX 2060 DirectX 12 RTX 2060 VENTUS XS 6G OC 6GB 192-Bit GDDR6 PCI Express 3.0 x16 HDCP Ready Video Card'),\n",
       " ('MSI',\n",
       "  'MSI GeForce RTX 2060 DirectX 12 RTX 2060 GAMING Z 6G 6GB 192-Bit GDDR6 PCI Express 3.0 x16 HDCP Ready Video Card'),\n",
       " ('ASUS',\n",
       "  'ASUS GeForce RTX 2060 Overclocked 6G GDDR6 Dual-Fan EVO Edition VR Ready HDMI DisplayPort DVI Graphics Card (DUAL-RTX2060-O6G-EVO)'),\n",
       " ('MSI',\n",
       "  'MSI GeForce GTX 1050 Ti DirectX 12 GTX 1050 Ti GAMING X 4G 4GB 128-Bit GDDR5 PCI Express 3.0 x16 HDCP Ready ATX Video Card'),\n",
       " ('ASUS',\n",
       "  'ASUS ROG Strix Radeon RX 570 DirectX 12 ROG-STRIX-RX570-O8G-GAMING 8GB 256-Bit GDDR5 PCI Express 3.0 HDCP Ready Video Card'),\n",
       " ('EVGA',\n",
       "  'EVGA GeForce GT 710 DirectX 12 01G-P3-2711-KR 1GB 64-Bit DDR3 PCI Express 2.0 Low Profile Video Card'),\n",
       " ('ASUS',\n",
       "  'ASUS GeForce GT 1030 2GB Phoenix Fan OC Edition HDMI DVI Graphics Card (PH-GT1030-O2G)'),\n",
       " ('GIGABYTE',\n",
       "  'GIGABYTE GeForce GTX 1650 OC 4G Graphics Card, 2 x WINDFORCE Fans, 4GB 128-Bit GDDR5, GV-N1650OC-4GD Video Card'),\n",
       " ('MSI',\n",
       "  'MSI GeForce GTX 1650 SUPER DirectX 12 GTX 1650 Super Gaming X 4GB 128-Bit GDDR6 PCI Express 3.0 x16 HDCP Ready Video Card'),\n",
       " ('GIGABYTE',\n",
       "  'GIGABYTE GeForce GTX 1660 Ti OC 6G Graphics Card, 2 x WINDFORCE Fans, 6GB 192-Bit GDDR6, GV-N166TOC-6GD Video Card'),\n",
       " ('GIGABYTE',\n",
       "  'GIGABYTE AORUS Radeon RX 5700 XT 8G Graphics Card, PCIe 4.0, 8GB 256-Bit GDDR6, GV-R57XTAORUS-8GD Video Card'),\n",
       " ('MSI',\n",
       "  'MSI Radeon RX 5600 XT DirectX 12 RX 5600 XT GAMING MX 6GB 192-Bit GDDR6 PCI Express 4.0 HDCP Ready Video Card'),\n",
       " ('ZOTAC',\n",
       "  'ZOTAC GAMING GeForce GTX 1660 SUPER 6GB GDDR6 192-bit Gaming Graphics Card, Super Compact, ZT-T16620F-10L'),\n",
       " ('MSI',\n",
       "  'MSI GeForce GTX 1050 Ti DirectX 12 GTX 1050 Ti 4GT OC 4GB 128-Bit GDDR5 PCI Express 3.0 x16 HDCP Ready ATX Video Card'),\n",
       " ('MSI',\n",
       "  'MSI GeForce GTX 1660 Ti DirectX 12 GTX 1660 TI VENTUS XS 6G OC 6GB 192-Bit GDDR6 PCI Express 3.0 x16 HDCP Ready Video Card'),\n",
       " ('EVGA',\n",
       "  'EVGA GeForce GTX 1660 Ti XC GAMING, 06G-P4-1263-KR, 6GB GDDR6, HDB Fan'),\n",
       " ('ASUS',\n",
       "  'ASUS ROG STRIX AMD Radeon RX 5700 XT Overclocked 8G GDDR6 HDMI DisplayPort Gaming Graphics Card (ROG-STRIX-RX5700XT-O8G-GAMING)'),\n",
       " ('GIGABYTE',\n",
       "  'GIGABYTE Radeon RX 5700 XT GAMING OC 8G Graphics Card, PCIe 4.0, 8GB 256-Bit GDDR6, GV-R57XTGAMING OC-8GD Video Card'),\n",
       " ('EVGA',\n",
       "  'EVGA GeForce RTX 2060 SC Ultra GAMING, 06G-P4-2067-KR, 6GB GDDR6, Dual HDB Fans'),\n",
       " ('ASUS',\n",
       "  'ASUS ROG STRIX AMD Radeon RX 5500 XT Overclocked 8G GDDR6 HDMI DisplayPort Gaming Graphics Card (ROG-STRIX-RX5500XT-O8G-GAMING)'),\n",
       " ('GIGABYTE',\n",
       "  'GIGABYTE GeForce GTX 1650 DirectX 12 GV-N1656OC-4GL 4GB 128-Bit GDDR6 PCI Express 3.0 x16 Low Profile Ready Video Card'),\n",
       " ('EVGA',\n",
       "  'EVGA GeForce RTX 2070 SUPER XC GAMING, 08G-P4-3172-KR, 8GB GDDR6, Dual HDB Fans, RGB LED, Metal Backplate'),\n",
       " ('GIGABYTE',\n",
       "  'GIGABYTE GeForce GTX 1660 OC 6G Graphics Card, 2 x WINDFORCE Fans, 6GB 192-Bit GDDR5, GV-N1660OC-6GD Video Card'),\n",
       " ('GIGABYTE',\n",
       "  'GIGABYTE GeForce RTX 2060 DirectX 12 GV-N2060WF2OC-6GD R2 6GB 192-Bit GDDR6 PCI Express 3.0 x16 ATX Video Card'),\n",
       " ('MSI',\n",
       "  'MSI Radeon RX 580 DirectX 12 RX 580 ARMOR 8G OC 8GB 256-Bit GDDR5 PCI Express x16 HDCP Ready CrossFireX Support Video Card'),\n",
       " ('ASUS',\n",
       "  'ASUS GeForce GTX 1050 Ti 4GB PHOENIX Fan Edition DVI-D HDMI DP 1.4 Gaming Graphics Card (PH-GTX1050Ti-4G)')]"
      ]
     },
     "execution_count": 33,
     "metadata": {},
     "output_type": "execute_result"
    }
   ],
   "source": [
    "#So lets get the names of all the stuff and the titles\n",
    "names = []\n",
    "for graph_card in containers:\n",
    "    try:\n",
    "        graphs_card = graph_card.div.div.div.a.img[\"title\"]\n",
    "        searched = graph_card.findAll(\"a\", {\"class\": \"item-title\"})\n",
    "        name = searched[0].text\n",
    "        my_tuple = (graphs_card, name)\n",
    "        names.append(my_tuple)\n",
    "    except:\n",
    "        print(\"There was nothing found\")\n",
    "        \n",
    "names"
   ]
  },
  {
   "cell_type": "code",
   "execution_count": 42,
   "metadata": {},
   "outputs": [
    {
     "data": {
      "text/plain": [
       "'Free Shipping'"
      ]
     },
     "execution_count": 42,
     "metadata": {},
     "output_type": "execute_result"
    }
   ],
   "source": [
    "# Now let's get the shipping price\n",
    "# first let's probe the data a little bit\n",
    "new_container = containers[0]\n",
    "shipping_tag = new_container.findAll(\"li\", {\"class\": \"price-ship\"})\n",
    "shipping_tag[0].text.strip()  #add the strip just in case you have data with new lines and white spaces on the ends\n"
   ]
  },
  {
   "cell_type": "code",
   "execution_count": 54,
   "metadata": {},
   "outputs": [
    {
     "name": "stdout",
     "output_type": "stream",
     "text": [
      "There was nothing found\n"
     ]
    },
    {
     "data": {
      "text/plain": [
       "('GIGABYTE',\n",
       " 'GIGABYTE Geforce RTX 2060 OC 6G Graphics Card, 2 x WINDFORCE Fans, 6GB 192-Bit GDDR6, GV-N2060OC-6GD Video Card',\n",
       " 'Free Shipping')"
      ]
     },
     "execution_count": 54,
     "metadata": {},
     "output_type": "execute_result"
    }
   ],
   "source": [
    "# now let's get all the data\n",
    "# make sure that you clear variables in your scripts\n",
    "names = []\n",
    "for graph_card in containers:\n",
    "    try:\n",
    "        shipping_tag = graph_card.findAll(\"li\", {\"class\": \"price-ship\"})\n",
    "        shipping_cost = shipping_tag[0].text.strip()\n",
    "        graphs_card = graph_card.div.div.div.a.img[\"title\"]\n",
    "        searched = graph_card.findAll(\"a\", {\"class\": \"item-title\"})\n",
    "        name = searched[0].text\n",
    "        info = (graphs_card, name, shipping_cost)\n",
    "        names.append(info)\n",
    "    except:\n",
    "        print(\"There was nothing found\")\n",
    "        \n",
    "names[1]"
   ]
  },
  {
   "cell_type": "code",
   "execution_count": null,
   "metadata": {},
   "outputs": [],
   "source": [
    "#let's open a file in python"
   ]
  },
  {
   "cell_type": "code",
   "execution_count": 55,
   "metadata": {},
   "outputs": [
    {
     "name": "stdout",
     "output_type": "stream",
     "text": [
      "There was nothing found\n",
      "There was nothing found\n",
      "There was nothing found\n",
      "There was nothing found\n",
      "There was nothing found\n",
      "There was nothing found\n",
      "There was nothing found\n",
      "There was nothing found\n",
      "There was nothing found\n",
      "There was nothing found\n",
      "There was nothing found\n",
      "There was nothing found\n",
      "There was nothing found\n",
      "There was nothing found\n",
      "There was nothing found\n",
      "There was nothing found\n",
      "There was nothing found\n",
      "There was nothing found\n",
      "There was nothing found\n",
      "There was nothing found\n",
      "There was nothing found\n",
      "There was nothing found\n",
      "There was nothing found\n",
      "There was nothing found\n",
      "There was nothing found\n",
      "There was nothing found\n",
      "There was nothing found\n",
      "There was nothing found\n",
      "There was nothing found\n",
      "There was nothing found\n",
      "There was nothing found\n",
      "There was nothing found\n",
      "There was nothing found\n",
      "There was nothing found\n",
      "There was nothing found\n",
      "There was nothing found\n",
      "There was nothing found\n"
     ]
    }
   ],
   "source": [
    "# Let's create a csv file\n",
    "filename = \"products.csv\"\n",
    "f = open(filename, \"w\")\n",
    "\n",
    "headers = \"brand, product_name, shipping\\n\"\n",
    "f.write(headers)\n",
    "\n",
    "for graph_card in containers:\n",
    "    try:\n",
    "        shipping_tag = graph_card.findAll(\"li\", {\"class\": \"price-ship\"})\n",
    "        shipping_cost = shipping_tag[0].text.strip()\n",
    "        graphs_card = graph_card.div.div.div.a.img[\"title\"]\n",
    "        searched = graph_card.findAll(\"a\", {\"class\": \"item-title\"})\n",
    "        brand = searched[0].text\n",
    "        f.write(graphs_card + \",\" + brand.replace(\",\", \"|\") + \",\" + shipping + \"\\n\")\n",
    "    except:\n",
    "        print(\"There was nothing found\")\n",
    "\n",
    "f.close()"
   ]
  },
  {
   "cell_type": "code",
   "execution_count": null,
   "metadata": {},
   "outputs": [],
   "source": []
  }
 ],
 "metadata": {
  "kernelspec": {
   "display_name": "Python 3",
   "language": "python",
   "name": "python3"
  },
  "language_info": {
   "codemirror_mode": {
    "name": "ipython",
    "version": 3
   },
   "file_extension": ".py",
   "mimetype": "text/x-python",
   "name": "python",
   "nbconvert_exporter": "python",
   "pygments_lexer": "ipython3",
   "version": "3.6.5"
  }
 },
 "nbformat": 4,
 "nbformat_minor": 2
}
