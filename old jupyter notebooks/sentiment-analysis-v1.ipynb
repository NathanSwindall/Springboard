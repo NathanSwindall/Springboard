{
 "cells": [
  {
   "cell_type": "markdown",
   "metadata": {},
   "source": [
    "LIN373 UT Austin :: Jessy Li\n",
    "\n",
    "Original material from Byron Wallace\n",
    "\n",
    "## Sentiment Analysis with Naive Bayes"
   ]
  },
  {
   "cell_type": "code",
   "execution_count": 1,
   "metadata": {},
   "outputs": [],
   "source": [
    "from sklearn.model_selection import train_test_split\n",
    "from sklearn.naive_bayes import MultinomialNB\n",
    "import numpy as np"
   ]
  },
  {
   "cell_type": "code",
   "execution_count": 2,
   "metadata": {},
   "outputs": [],
   "source": [
    "from sklearn.datasets import load_files\n",
    "from sklearn import metrics\n",
    "from sklearn.feature_extraction.text import CountVectorizer"
   ]
  },
  {
   "cell_type": "code",
   "execution_count": 3,
   "metadata": {},
   "outputs": [
    {
     "name": "stdout",
     "output_type": "stream",
     "text": [
      "n_samples: 2000\n"
     ]
    }
   ],
   "source": [
    "###\n",
    "# assumes you have downloaded the movie reviews data from Canvas \n",
    "# and unpacked into 'movie-reviews' parent directory!!!\n",
    "dataset = load_files(\"movie-reviews/\")\n",
    "print(\"n_samples: %d\" % len(dataset.data))"
   ]
  },
  {
   "cell_type": "code",
   "execution_count": 4,
   "metadata": {},
   "outputs": [
    {
     "data": {
      "text/plain": [
       "sklearn.utils.Bunch"
      ]
     },
     "execution_count": 4,
     "metadata": {},
     "output_type": "execute_result"
    }
   ],
   "source": [
    "type(dataset)"
   ]
  },
  {
   "cell_type": "code",
   "execution_count": 5,
   "metadata": {},
   "outputs": [
    {
     "name": "stdout",
     "output_type": "stream",
     "text": [
      "b\"arnold schwarzenegger has been an icon for action enthusiasts , since the late 80's , but lately his films have been very sloppy and the one-liners are getting worse . \\nit's hard seeing arnold as mr . freeze in batman and robin , especially when he says tons of ice jokes , but hey he got 15 million , what's it matter to him ? \\nonce again arnold has signed to do another expensive blockbuster , that can't compare with the likes of the terminator series , true lies and even eraser . \\nin this so called dark thriller , the devil ( gabriel byrne ) has come upon earth , to impregnate a woman ( robin tunney ) which happens every 1000 years , and basically destroy the world , but apparently god has chosen one man , and that one man is jericho cane ( arnold himself ) . \\nwith the help of a trusty sidekick ( kevin pollack ) , they will stop at nothing to let the devil take over the world ! \\nparts of this are actually so absurd , that they would fit right in with dogma . \\nyes , the film is that weak , but it's better than the other blockbuster right now ( sleepy hollow ) , but it makes the world is not enough look like a 4 star film . \\nanyway , this definitely doesn't seem like an arnold movie . \\nit just wasn't the type of film you can see him doing . \\nsure he gave us a few chuckles with his well known one-liners , but he seemed confused as to where his character and the film was going . \\nit's understandable , especially when the ending had to be changed according to some sources . \\naside form that , he still walked through it , much like he has in the past few films . \\ni'm sorry to say this arnold but maybe these are the end of your action days . \\nspeaking of action , where was it in this film ? \\nthere was hardly any explosions or fights . \\nthe devil made a few places explode , but arnold wasn't kicking some devil butt . \\nthe ending was changed to make it more spiritual , which undoubtedly ruined the film . \\ni was at least hoping for a cool ending if nothing else occurred , but once again i was let down . \\ni also don't know why the film took so long and cost so much . \\nthere was really no super affects at all , unless you consider an invisible devil , who was in it for 5 minutes tops , worth the overpriced budget . \\nthe budget should have gone into a better script , where at least audiences could be somewhat entertained instead of facing boredom . \\nit's pitiful to see how scripts like these get bought and made into a movie . \\ndo they even read these things anymore ? \\nit sure doesn't seem like it . \\nthankfully gabriel's performance gave some light to this poor film . \\nwhen he walks down the street searching for robin tunney , you can't help but feel that he looked like a devil . \\nthe guy is creepy looking anyway ! \\nwhen it's all over , you're just glad it's the end of the movie . \\ndon't bother to see this , if you're expecting a solid action flick , because it's neither solid nor does it have action . \\nit's just another movie that we are suckered in to seeing , due to a strategic marketing campaign . \\nsave your money and see the world is not enough for an entertaining experience . \\n\"\n"
     ]
    }
   ],
   "source": [
    "print(dataset.data[0])"
   ]
  },
  {
   "cell_type": "code",
   "execution_count": 6,
   "metadata": {},
   "outputs": [
    {
     "name": "stdout",
     "output_type": "stream",
     "text": [
      "[b\"arnold schwarzenegger has been an icon for action enthusiasts , since the late 80's , but lately his films have been very sloppy and the one-liners are getting worse . \\nit's hard seeing arnold as mr . freeze in batman and robin , especially when he says tons of ice jokes , but hey he got 15 million , what's it matter to him ? \\nonce again arnold has signed to do another expensive blockbuster , that can't compare with the likes of the terminator series , true lies and even eraser . \\nin this so called dark thriller , the devil ( gabriel byrne ) has come upon earth , to impregnate a woman ( robin tunney ) which happens every 1000 years , and basically destroy the world , but apparently god has chosen one man , and that one man is jericho cane ( arnold himself ) . \\nwith the help of a trusty sidekick ( kevin pollack ) , they will stop at nothing to let the devil take over the world ! \\nparts of this are actually so absurd , that they would fit right in with dogma . \\nyes , the film is that weak , but it's better than the other blockbuster right now ( sleepy hollow ) , but it makes the world is not enough look like a 4 star film . \\nanyway , this definitely doesn't seem like an arnold movie . \\nit just wasn't the type of film you can see him doing . \\nsure he gave us a few chuckles with his well known one-liners , but he seemed confused as to where his character and the film was going . \\nit's understandable , especially when the ending had to be changed according to some sources . \\naside form that , he still walked through it , much like he has in the past few films . \\ni'm sorry to say this arnold but maybe these are the end of your action days . \\nspeaking of action , where was it in this film ? \\nthere was hardly any explosions or fights . \\nthe devil made a few places explode , but arnold wasn't kicking some devil butt . \\nthe ending was changed to make it more spiritual , which undoubtedly ruined the film . \\ni was at least hoping for a cool ending if nothing else occurred , but once again i was let down . \\ni also don't know why the film took so long and cost so much . \\nthere was really no super affects at all , unless you consider an invisible devil , who was in it for 5 minutes tops , worth the overpriced budget . \\nthe budget should have gone into a better script , where at least audiences could be somewhat entertained instead of facing boredom . \\nit's pitiful to see how scripts like these get bought and made into a movie . \\ndo they even read these things anymore ? \\nit sure doesn't seem like it . \\nthankfully gabriel's performance gave some light to this poor film . \\nwhen he walks down the street searching for robin tunney , you can't help but feel that he looked like a devil . \\nthe guy is creepy looking anyway ! \\nwhen it's all over , you're just glad it's the end of the movie . \\ndon't bother to see this , if you're expecting a solid action flick , because it's neither solid nor does it have action . \\nit's just another movie that we are suckered in to seeing , due to a strategic marketing campaign . \\nsave your money and see the world is not enough for an entertaining experience . \\n\", b\"good films are hard to find these days . \\ngreat films are beyond rare . \\nproof of life , russell crowe's one-two punch of a deft kidnap and rescue thriller , is one of those rare gems . \\na taut drama laced with strong and subtle acting , an intelligent script , and masterful directing , together it delivers something virtually unheard of in the film industry these days , genuine motivation in a story that rings true . \\nconsider the strange coincidence of russell crowe's character in proof of life making the moves on a distraught wife played by meg ryan's character in the film -- all while the real russell crowe was hitching up with married woman meg ryan in the outside world . \\ni haven't seen this much chemistry between actors since mcqueen and mcgraw teamed up in peckinpah's masterpiece , the getaway . \\nbut enough with the gossip , let's get to the review . \\nthe film revolves around the kidnapping of peter bowman ( david morse ) , an american engineer working in south america who is kidnapped during a mass ambush of civilians by anti-government soldiers . \\nupon discovering his identity , the rebel soldiers decide to ransom him for $6 million . \\nthe only problem is that the company peter bowman works for is being auctioned off , and no one will step forward with the money . \\nwith no choice available to her , bowman's wife alice ( ryan ) hires terry thorne ( crowe ) , a highly skilled negotiator and rescue operative , to arrange the return of her husband . \\nbut when things go wrong -- as they always do in these situations -- terry and his team ( which includes the most surprising casting choice of the year : david caruso ) take matters into their own hands . \\nthe film is notable in that it takes this very simple story line and creates a complex and intelligent character-driven vehicle filled with well-written dialogue , shades of motivation , and convincing acting by all the actors . \\nthe script is based on both a book ( the long march to freedom ) and a magazine article pertaining to kidnap/ransom situations , and the story has been sharply pieced together by tony gilroy , screenwriter of the devil's advocate and dolores claiborne . \\nthe biggest surprise for me was not the chemistry between crowe and ryan , but that between crowe and david caruso . \\ndug out from b-movie hell , caruso pulls off a gutsy performance as crowe's right hand gun while providing most of the film's humor . \\nryan cries a lot and smokes too many cigarettes , david morse ends up getting everyone at the guerilla camp to hate him , and crowe provides another memorable acting turn as the stoic , gunslinger character of terry thorne . \\nthe most memorable pieces of the film lie in its action scenes . \\nthe bulk of those scenes , which bookend the movie , work extremely well as establishment and closure devices for all of the story's characters . \\nthe scenes are skillfully crafted and executed with amazing accuracy and poise . \\ndirector taylor hackford mixes both his old-school style of filmmaking with the dizziness of a lars von trier film . \\nproof of life is a thinking man's action movie . \\nit is a film about the choices men and women make in the face of love and war , and the sacrifices one makes for those choices -- the sacrifices that help you sleep at night . \\n\", b\"quaid stars as a man who has taken up the proffesion of dragonslayer after he feels he is betrayed by a dragon early in the movie . \\nhe runs into the last dragon in existence , and there is a genuinely amusing battle between the two which results in a standoff where quaid is in the dragons mouth , but has his sword pointed at the dragons brain . \\neventually , they decide to call a truce , and they work out a deal . \\nsince he is the last dragon , he will pretend to die and quaid will be able to get paid for it . \\ntheir scam works at first , until they come to a town without any money . \\ninstead the town sacrifices a girl to the dragon , but of course , draco is a nice droagon , so he won't eat her . there is however a very amusing scene where draco is hitting on the young girl . \\nof course , as you can probably tell by the plot , this is a silly movie , but it does know when to take itself seriously at the right times , unlike eddie , which was serious all the time . \\nyou could probably call this a medieval comedy , because there are more laughs here than in eddie and spy hard combined . \\ndennis quaid makes a fine hero . \\npete posthlewaite provides some ghreat comedy as a monk who journeys with them . \\ndina meyer is appealing as the sacrificed girl . \\nbut lets face it , the movie is really about the dragon , and what an amazing creation he is . \\nconnery's voice and ilm team up to provide us with a truly magnificent dragon . \\nso , if you are going to see this movie for a strong hard core medieval epic , you are going to the wrong movie . \\nif you are going because of the dragon , you will not be dissapointed , and you will be provided with plenty of laughs that smooth out the boring parts in the script . \\n\", b'we could paraphrase michelle pfieffer\\'s character in dangerous minds and say that beyond rangoon starts with an \" a . \" \\nthat\\'s fair enough . \\nall movies , like all school children , should be given the benefit of the doubt . \\nthe chance to succeed . \\nafter all , we like to think that the right combination of talent and effort can do wonders . \\nmountains can be moved , and good movies can be made . \\nyeah right . \\nchildren fail , as do films . \\nas does director john boorman\\'s latest . \\nthe success of beyond rangoon hinges on the believability of patricia arquette ( ed wood , true romance ) as the busty westerner-in-peril wandering about 1988 burma without a passport . \\nthough we can stomach the mild plot contrivances that get her there , it\\'s a tougher task to overlook the actress . \\nshe\\'s a lightweight . \\nas the first scene ( with narration ! ) \\ndemonstrates , she doesn\\'t have * nearly * enough range for the emotions that her character--a mother fleeing the memories of a murdered husband and son--is supposed to show . \\nshe may give a stronger performance than , say , keanu reeves in a walk in the clouds , by not by much . \\nbeyond rangoon is a very physically appealing film , thanks to the practiced craftsmanship of john boorman ( deliverance , excalibur , hope and glory ) . \\nhe keeps the narrative moving , no matter how muddy the story--or the heroine--gets . \\nwhy he chose arquette remains a mystery , though . \\nmaybe he was thinking that the dramatic weight of the story would overcome any casting deficiencies . \\nbut even after an hour of half-stated political statements and murky mass killings , we * still * don\\'t know enough of what\\'s happening in this country to feel distressed for the characters or their situations . \\nempty exoticism . \\nthe technical credits in beyond rangoon are a curious mix , combining lush jungle photography with bad blue-screen work . \\nalso odd is the obvious dubbing . \\ndone to make some of the foreign characters sound less foreign ? \\nand , is it my mistake , or do the same extras keep reappearing as different soldiers ? ? \\ndoo doo doo doo . \\n[ \" twilight zone \" theme , or opinion of movie . \\nyou be the judge . ] \\n', b\"kolya is one of the richest films i've seen in some time . \\nzdenek sverak plays a confirmed old bachelor ( who's likely to remain so ) , who finds his life as a czech cellist increasingly impacted by the five-year old boy that he's taking care of . \\nthough it ends rather abruptly-- and i'm whining , 'cause i wanted to spend more time with these characters-- the acting , writing , and production values are as high as , if not higher than , comparable american dramas . \\nthis father-and-son delight-- sverak also wrote the script , while his son , jan , directed-- won a golden globe for best foreign language film and , a couple days after i saw it , walked away an oscar . \\nin czech and russian , with english subtitles . \\n\", b'i don\\'t know how many other people have had the idea cross their mind that their life could be an ongoing television show watched by another world of people , but it\\'s something i used to wonder about when i was younger . \\ni can\\'t decide if i first thought it because i watched a lot of tv or because my brother hit me in the head with a baseball bat , but i\\'m pretty sure andrew niccol , screenwriter for the truman show , has had the same curious thought . \\nthe truman show is about a man ( jim carrey ) whose entire life has been engineered by a corporation and marketed to the public . \\nsince birth , he\\'s been living in the fictional island town of seahaven , fla . , which actually exists as a giant domed set just beyond the hollywood sign . \\nall the people in truman burbank\\'s life are actors , and the anonymous townfolk paid extras . \\npeople watch truman\\'s life 24 hours a day , live , with no commercial interruptions . \\nrevenue comes instead from product placement , a staple of contemporary hollywood , with truman\\'s friends and relatives describing their consumer items in cheerful and optimistic tones . \\nthe sun rises and sets on cue and everyone likes everyone else . \\neven if you haven\\'t seen the truman show , you\\'ve probably learned most of the crucial details from the commercials , the trailer and other promotion blitzes . \\nif anything i\\'ve written so far is a surprise to you , then i pity you for making me a primary source for your entertainment news . \\neither way , you should probably know the premise of the truman show going into it , because otherwise you\\'ll probably think it sucks . \\nit begins with jim carrey looking into a mirror , reciting the crucial \" eat me \" scene from alive , wishing his neighbors a good day , afternoon and evening , and living in domestic bliss with his wife ( laura linney ) . \\nbut weird things start happening . \\na stage light comes falling out of the sky , truman hears people tracking his movements on the radio and he swears he sees his dead father . \\nwe learn through a flashback that his father drowned when truman was a child , sailing through a rainstorm . \\nthe death was staged by director christof ( ed harris ) , who wanted to put a fear of water into truman to keep him from leaving the island . \\nsimilar cruel manipulations keep him from stumbling upon the truth , not the least of them truman\\'s best friend marlon ( noah emmerich ) , who assures him he\\'s not in on any conspiracy because the last thing he\\'d ever do is hurt him . \\nas truman\\'s trusting eyes tear over , christof fades up emotional synthesizer music for a worldwide audience of people who apparently never watch anything else . \\nthere\\'s even a daily behind-the-scenes update from harry shearer that captures the highlights of truman\\'s existence . \\nthe key to a movie like this is in finding the right balance between humor and drama , because a premise like this has its obvious implications in both directions . \\nand it all hinges on carrey , who has to balance comic naivet with a real sense of longing and drive to find out what the hell is going on . \\nhe\\'s come a long way from talking butt cheeks in ace ventura . \\nmost fundamentally , it\\'s just plain interesting to follow along as director peter weir shows us just how they can capture a person\\'s life without the person realizing it -- how they coordinate extras , hide cameras and feed automatic lines to actors . \\nthe most interesting thing about the truman show is that most of us can probably imagine some ambitious director pitching a show like this . \\nsure , the most interesting tv genre of the \\'90s has been reality programming and jerry springer\\'s popularity is through the roof , but those people deserve to be humiliated for turning their intimate details over to the airwaves . \\nand when news shows use hidden cameras , it\\'s done in the name of the greater good , not entertainment . \\nbut merge the two and you\\'ve got the truman show . \\nright now , it\\'s implausible -- i mean , the fcc won\\'t let you say the s-word on the air ; do you think they\\'d let you broadcast every detail of a man\\'s life to the entire world without his consent ? \\none day , though , it could happen . \\nand , even though it would mean the end of privacy , people would eat it up . \\nyou know they would . \\n', b'capsule : trippy , hyperspeed action machine from hong kong\\'s accomplished tsui hark . \\nvan damme and rodman have nice chemistry , the stunts are eyepopping , and stuff gets blowed up real good ; what more do you want ? \\ni admit i was all set to loathe double team ; it reeked of cheapjack timing-oriented marketing ( stick dennis rodman in a movie , quick , while he\\'s hot , and do something about jean-claude van damme\\'s flagging career while we\\'re at it ! ) . \\nsurprise -- double team transcends its dumb roots and turns out to be a mess of fun . \\nbring some friends , get some pretzels , and have a blast . \\nvan damme is jack quinn , an ex-agent who is brought back in for \" one last mission \" -- you\\'d think any spy worth his shoe phone would run like hell when he hears those words . \\nbut van damme\\'s character has a pregnant wife who\\'s also a sculptor , and some unpleasant pressure gets used to get him to come through on this mission . \\nhe\\'s been assigned to take down an old enemy , a terrorist named stavros ( mickey rourke , looking oddly subdued ) , who may be back up to his old tricks . \\nin the first showdown between quinn and stavros , the movie wears its ambitions proudly on its sleeve : nonstop action . \\nan amusement park , a hospital , a private \" retired spy \" \\'s retreat , most of rome , various houses , planes , cars and other modes of transport , and the coliseum ( ! ) \\nall become arenas for some of the most bone-rattling shoot-outs and punch-outs filmed . \\nthey are better seen than described and are reason enough to see the film : one jaw-dropping scene has van damme taking on a man who uses a switchblade with his * feet * . \\n ( van damme is a good , dextrous athlete and fighter , but he is often upstaged . ) \\nthere are other nice touches . \\nstavros and quinn both want the same thing : to retire in peace with their families . \\nthat ambition ties them together in various ways , and also humanizes them a bit . \\none of the things about hk action movies is that there\\'s always some form of human element , and that\\'s carried over into this movie as well . \\nit gives weight to scenes that would otherwise be forgettable . \\nalso good is dennis rodman , playing a weapons dealer named yaz -- a character who sticks out like a fistful of broken fingers and who is funny just standing there . \\nrodman is natural on screen ; he\\'s fun to watch , especially when slinging bad guys like basketballs , and deserves to get a movie of his own , based on what\\'s seen here : a lightweight , fast-moving entertainment that showcases all of its pieces excellently . \\n', b'gothic murder-mystery yarns are not a new conceit . \\nin fact , they\\'ve been around in books and on film for many , many years . \\nwithout the proper handling , they come off as old-fashioned , bland , and outdated . \\n \" the gift , \" directed by sam raimi , is a tried-and-true effort that surprises very little , and includes everything from a wide array of suspects and red herrings , to mansions in the deep south with moss trees out front , to the eventual discovery of a waterlogged corpse found in a nearby pond . \\nit\\'s fairly obvious who the killer is ; in fact , i predicted who it would be before the movie began and was correct in my preliminary suspicions . \\nthe film ultimately shouldn\\'t work , but it does , thanks to a sparkling cast that fills each character with so many memorable nuances , the most fun to be had is in simply watching the people interact with each other . \\nannie wilson ( cate blanchett ) is a recently widowed mother of three sons who makes her living giving psychic readings to the residents of her backwater southern hometown . \\nsome of her mainstay clients include valerie barksdale ( hilary swank ) , who is severely abused by her husband donnie ( keanu reeves ) , and buddy cole ( giovanni ribisi ) , an unstable mechanic who is confused by the nightmares he\\'s been having about a mysterious blue diamond that is somehow linked to his father . \\nfor annie , she does not give the readings merely for money , but uses it as a way of seeking solace in finding the good in everyone\\'s future . \\nher late grandmother ( rosemary harris ) told her as a child that it was a gift she was given , and she should always remember that . \\nwhen annie\\'s eldest son is involved in a fight at school , she meets the nice-guy school principal , wayne collins ( greg kinnear ) , whom she finds herself attracted to . \\nbut wayne is engaged to the wealthy jessica king ( katie holmes ) , whom annie immediately gets a negative vibe about . \\nat a party with her best friend linda ( kim dickens ) , annie stumbles upon jessica in a compromising position with lawyer david duncan ( gary cole ) . \\nsoon after , jessica has disappeared , leaving everyone in a frenzy over what could have possibly happened to her , and annie starts to have nightmares and apparitions linking jessica with the vicious redneck donnie barksdale , and the pond behind his home . \\n \" the gift \" may be cliched on a sheer storytelling level , but the performances and tight direction from raimi ( who has redeemed himself for his embarrassing last film , 1999\\'s \" for love of the game \" ) lift the picture up several notches . \\nslowly enveloping the viewer into the many intriguing characters and their individual plights , the disappearance of jessica at the 30-minute mark divulges the movie\\'s true intentions and transforms the proceedings into a taut , at times frightening , horror-mystery . \\nat the center of the film is the exceptional cate blanchett ( 1999\\'s \" the talented mr . ripley \" ) , who turns annie wilson from what could have been little more than a run-of-the-mill protagonist into a very exact , down-to-earth , realistic person with valid troubles and a caring attitude towards those around her . \\nblanchett takes the unextraordinary material and runs with it , giving the entire film a truly classy aura that it otherwise might not have had . \\nwe follow her at every turn because she is so mesmerizing , both as a character and an actress . \\nblanchett isn\\'t the only bright performer , as she is ably supported by one of the best casts of the year . \\nin her first role following her oscar win for 1999\\'s \" boys don\\'t cry , \" hilary swank is excellent as the confused valerie , who seeks guidance from annie , but is too scared to take her biggest advice of all : to leave the grossly abusive donnie . \\nas donnie , keanu reeves ( 2000\\'s \" the watcher \" ) makes an utterly convincing backwoods meanie , so much so that it is difficult to believe he is an actor at all . \\nfor the often-criticized reeves , whose acting abilities have never been the best , this is the biggest compliment he could possibly get , and it is also one of the better performances he has given . \\ngiovanni ribisi ( 2000\\'s \" the boiler room \" ) is heartbreaking as a mentally slow young man who sees annie as his only friend , and wants her to do nothing but help him understand why he is being plagued by bad dreams about his dad . \\nin the small , but pivotal role of the sleazy jessica king , katie holmes ( 2000\\'s \" wonder boys \" ) has turned in yet another stunning supporting turn . \\nher promiscuous role of jessica is one she has never played before , and she is radiant in her few scenes . \\nfinally , kim dickens ( 2000\\'s \" hollow man \" ) makes her usual strong impression as annie\\'s spicy best friend , linda . \\nthe other notable aspect of \" the gift \" is its moody atmosphere that lays such a thickly foreboding air over every scene it\\'s almost suffocating . \\nthanks to cleverly construed editing by arthur coburn and bob murawski , and the successful use of different eerie sounds effects and a very good music score by christopher young , the movie not only achieves a scary undercurrent , but one that is filled with dread . \\nhelped along by a strong screenplay by billy bob thornton and tom epperson , which makes the most of its setting and delightful cast , \" the gift \" is that rarest of thrillers that actually thrills , and offers up a fair share of chills , too . \\nit may not be groundbreakingly original , but it sure is an entertaining ride for the duration of its running time . \\n', b\"what i look for in a movie is not necessarily perfection . \\nsometimes a movie has such strong ideas that despite whatever flaws it may have , i will prefer it to a better-made film that is not as thought-provoking . \\nthe thin red line is flawed but it provokes . \\nterence malick returns to filmmaking 20 years after days of heaven and produces this meditative look at war . \\nunlike this year's saving private ryan , which dwells on war as a necessary evil and explores the moral ambiguities thereof , the thin red line simply says war is waste . \\nwhile that might seem obvious to some , only after experiencing the film do you realize how profound a waste it is . \\nsaving private ryan has an underlying and practical acceptance that war will occur and it has a great cost ; the thin red line says idealistically avoid this at all costs . \\none message is not necessarily more correct than the other . \\nit just depends on one's point of view . \\nin malick's film , war is set in a tropical paradise , and john toll's cinematography is beyond lush . \\nthe setting poses the question , why are we fighting in the face of such beauty ? \\nin saving private ryan , the capture of a german soldier presents the moral quandary of whether to let him go . \\nin the thin red line , the japanese present the moral quandary of war in the first place . \\nthey are just like the americans -- frightened and angry , grieving and praying . \\nall that separates them is war . \\nthe flaw in the thin red line comes in the voice-overs . \\nunbelievable as coming from the characters and sometimes pretentious , sometimes corny , the voice-overs tell us what the images before us already do and are completely unnecessary . \\ndispensing with them , malick could have achieved a tarkovskian grandeur . \\ninstead , he gets distracting self-consciousness . \\naside from that , malick's direction is stunning . \\nthe tracking shots across windswept hills and around transports speeding toward shore are extraordinary . \\nsean penn , elias koteas , and nick nolte give the best performances . \\npenn is subtle as a sergeant trying to hide his humanism , koteas is genuine as a compassionate captain , and nolte startling as a colonel whose blood vessels are about to burst if he cannot win his battle . \\njohn travolta and george clooney are the worst in cameo roles . \\nultimately however , the thin red line's interest is not in the characters and it is not in drama . \\nit has been frequently criticized for its lack of dramatic structure , but malick clearly has different things on his mind . \\nhas no one ever thought that getting dramatic entertainment from war is exploitative ? \\nwhat malick is working with is theme , and in that , the thin red line is most provoking . \\n\", b'the law of crowd pleasing romantic movies states that the two leads must end up together by film\\'s end . \\nif you\\'re not familiar with this law , then maybe you\\'ve seen the trailer for this film which shows that the two leads are together by film\\'s end . \\nnow if you\\'re a regular reader of mine , you\\'ve heard me say this countless times : you know how drive me crazy is going to end , but is the journey to get to that ending worth it ? \\nno , it definitely is not . \\nmelissa joan hart ( from abc\\'s \" sabrina , the teenage witch \" ) likes a hunky stud on the basketball team . \\nadrien grenier is her grungy neighbor who\\'s just broken up with his activist girlfriend . \\napparently he wants to make his ex-girlfriend jealous enough to take him back , and she wants someone to take her to the big year end dance . \\nso the two pretend to date for some reason , but only after hart gives grenier a bath to turn him into a hunky stud . \\nwill grenier like his new popularity and turn on his friends ? \\nwill this crazy scheme work ? \\ndo i care ? \\nthe teen comedy resurgence of late has been surprisingly good in terms of comedy . \\nwhat makes movies like can\\'t hardly wait and 10 things i hate about you work ( and to a lesser extent , she\\'s all that and never been kissed ) is because the writers of those films seem to realize that high school is a joke and write their scripts accordingly . \\ni don\\'t know what the writer\\'s intention was with drive me crazy . \\nthere was some smart comedy in those films to make the obvious endings worth getting to . \\nhere there\\'s nothing . . . \\njust teens whining about who\\'s going to take them to the big dance . \\ndo me a favor kids , go get a job or something . . . \\njust shut the hell up . \\nin all honesty , the best part of this film is the end credits . \\nnow normally when i say that it\\'s followed with the joke \" . . . because the movie is finally over . \" \\nin this case though the end credits really are the most entertaining part of the film . \\nafter the obligatory second playing of britney spears\\' titular song , there\\'s a quick commercial jingle for a burger joint the kids in the film hang out in and a brief rendition of the school song for their high school . \\nnothing great , but more entertaining than anything in the 90 minutes which preceded them . \\nsci-fi fans take note : there are brief appearances from stephen collins ( star trek : the motion picture ) and faye grant ( the tv miniseries \" v \" and \" v : the final battle \" ) . \\n[pg-13] \\n']\n"
     ]
    }
   ],
   "source": [
    "print(dataset.data[:10])"
   ]
  },
  {
   "cell_type": "code",
   "execution_count": 7,
   "metadata": {},
   "outputs": [
    {
     "name": "stdout",
     "output_type": "stream",
     "text": [
      "[0 1 1 0 1 1 1 1 1 0]\n"
     ]
    }
   ],
   "source": [
    "print(dataset.target[:10])"
   ]
  },
  {
   "cell_type": "code",
   "execution_count": 8,
   "metadata": {},
   "outputs": [],
   "source": [
    "# generate train/test subsets\n",
    "docs_train, docs_test, y_train, y_test = train_test_split(\n",
    "    dataset.data, dataset.target, test_size = 0.2, random_state = None)"
   ]
  },
  {
   "cell_type": "code",
   "execution_count": 9,
   "metadata": {},
   "outputs": [],
   "source": [
    "vectorizer = CountVectorizer(stop_words = \"english\")\n",
    "X_train = vectorizer.fit_transform(docs_train)"
   ]
  },
  {
   "cell_type": "code",
   "execution_count": 10,
   "metadata": {
    "scrolled": false
   },
   "outputs": [
    {
     "name": "stdout",
     "output_type": "stream",
     "text": [
      "35836\n"
     ]
    }
   ],
   "source": [
    "print(len(vectorizer.get_feature_names()))"
   ]
  },
  {
   "cell_type": "code",
   "execution_count": 11,
   "metadata": {},
   "outputs": [
    {
     "name": "stdout",
     "output_type": "stream",
     "text": [
      "['00', '000', '0009f', '007', '05', '10', '100', '1000', '10000', '100m', '101', '102', '103', '104', '105', '106', '107', '108', '109', '10b', '11', '110', '111', '113', '1138', '114', '115', '117', '118', '11th', '12', '121', '122', '123', '125', '126', '127', '128', '129', '12th', '13', '130', '131', '132', '133', '135', '137', '139', '13th', '14', '1400', '143', '14th', '15', '150', '1500s', '150th', '151', '152', '1521', '153', '155', '1583', '1590', '15th', '16', '160', '1600', '1600s', '161', '165', '167', '1692', '16mm', '16x9', '17', '170', '1700s', '1709', '172', '175', '1773', '1794', '1799', '17th', '18', '180', '1800', '1800s', '1830s', '1839', '1847', '1862', '1865', '1869', '1871', '1885', '1888', '1896', '1898', '1899', '18th', '19', '1900', '1900s', '1903', '1908', '1912', '1913', '1914', '1919', '1920s', '1922', '1923', '1925', '1926', '1928', '1930', '1930s', '1932', '1933', '1934', '1935', '1937', '1938', '1939', '1940', '1940s', '1941', '1942', '1943', '1944', '1945', '1946', '1947', '1948', '1949', '1950', '1950s', '1951', '1952', '1953', '1954', '1955', '1956', '1957', '1958', '1959', '1960', '1960s', '1961', '1962', '1963', '1964', '1965', '1966', '1967', '1968', '1969', '1970', '1970s', '1971', '1972', '1973', '1974', '1975', '1976', '1977', '1978', '1979', '1980', '1980s', '1981', '1982', '1983', '1984', '1985', '1986', '1987', '1988', '1989', '1990', '1990s', '1991', '1992', '1993', '1994', '1995', '1996', '1997', '1998', '1998s', '1999', '19th', '1hr', '1st', '20', '200', '2000', '2001', '2002', '2007', '2013', '2015', '2017', '2018', '2020', '2023', '2024', '2029', '2036', '2050', '2056', '2058', '206', '2065', '209', '2099', '20s', '20th', '20thcentury', '21', '216', '2176', '21a', '21st', '22', '2259', '2293', '23', '230', '234', '23rd', '24', '2400', '2470', '24th', '25', '250', '254', '25th', '26', '2654', '26min', '26th', '27', '28', '280', '289', '28th', '28up', '29', '2am', '2d', '2nd', '2th', '30', '300', '3000', '30ish', '30m', '30s', '30th', '31', '310', '31st', '32', '33', '34', '3411', '3465', '35', '357', '35mm', '35th', '36', '360', '36th', '37', '37th', '38th', '39', '3d', '3po', '3rd', '40', '400', '40mins', '40s', '41', '42', '426', '43', '44', '449', '45', '460', '47', '48', '48th', '49', '4960', '4am', '4th', '50', '500', '5000', '50000', '500k', '500th', '50s', '51', '51st', '52', '53', '54', '54th', '55', '555', '56', '5671', '56k', '57', '571', '57th', '58', '59', '5th', '60', '600', '6000', '607', '60s', '61', '62', '63', '64', '640', '65', '65th', '66', '666', '67', '69', '6th', '70', '700', '7000', '701', '70ies', '70m', '70mm', '70s', '712', '75', '750', '76', '77', '777', '779', '78', '79', '7th', '80', '800', '802', '8034', '80s', '81', '82', '8216', '83', '84', '85', '86', '87', '88', '89', '8mm', '8th', '90', '900', '90210', '90s', '91', '911', '92', '93', '939', '94', '95', '95s', '96', '97', '98', '99', '999', '9mm', '_2001_', '_21_jump_street_', '_48_hrs', '_54_', '___', '____', '_____', '______', '____________________________________________', '__________________________________________________________', '_a', '_a_night_at_the_roxbury_', '_air_force_one_', '_all_', '_am_', '_america', '_american_beauty_', '_american_psycho_', '_and_', '_andre_', '_animal', '_anything_', '_are_', '_armageddon_', '_arrrgh_', '_babe_', '_before_', '_beloved_', '_blade', '_blade_', '_boogie', '_boom_', '_brazil_', '_breakfast_', '_breakfast_of_champions_', '_but', '_can', '_can_', '_cliffhanger', '_cliffhanger_', '_clueless_', '_come_', '_dancing_', '_daylight_', '_dead_man_', '_dead_man_on_campus_', '_dirty_work_', '_do_', '_doctor_dolittle_', '_does_', '_dog', '_don', '_double_team_', '_dragon', '_dragon_', '_dragonheart_', '_election', '_election_', '_escape', '_everybody_', '_exactly_', '_experience_', '_fantastic_', '_fear_and_loathing_in_las_vegas_', '_ferris', '_fifty_', '_flirting', '_four_', '_full_house_', '_gag', '_genius_', '_ghost', '_great_', '_halloween_', '_happen_', '_have_', '_heathers_', '_here_', '_highly_', '_his_', '_holy_man_', '_home', '_home_alone_', '_huge_', '_hustler_', '_in', '_into_', '_is_', '_it', '_itcom_', '_jerry_maguire_', '_john', '_juliet_', '_jumanji_', '_kingpin_', '_knock_off_', '_la', '_last', '_last_', '_least_', '_life', '_little', '_loathe_', '_long_', '_looks_', '_lot_', '_mafia_', '_many_', '_melvin', '_mind', '_moby', '_monster_movie_', '_more_', '_mortal', '_murder_', '_must_', '_never', '_no', '_not_', '_offscreen_', '_original_', '_patlabor', '_patlabor_', '_pecker_', '_people_', '_pick_chucky_up_', '_poltergeist_', '_porky', '_quite_', '_reach_the_rock_', '_real_', '_reality', '_really_', '_red', '_remains', '_require_', '_roxbury_', '_rushmore_', '_saturday_night_live_', '_saved_by_the_bell_', '_saving', '_scarface_', '_schindler', '_scream_', '_seven_nights_', '_shaft', '_shaft_', '_shaft_in_africa_', '_should_', '_six_days', '_snl_', '_so', '_soldier_', '_some_', '_somewhere_', '_still_', '_survives_', '_that_', '_the', '_the_', '_the_broadway_musical_', '_the_fugitive_', '_the_last_days_of_disco_', '_the_lion_king', '_the_quest_', '_their_', '_there_', '_they', '_this_', '_titus_', '_titus_andronicus_', '_to', '_today_', '_too_', '_two_', '_vampires_', '_very_', '_wag', '_wartime', '_wayyyyy_', '_what', '_whole_', '_william_shakespeare', '_would_', 'aa', 'aaa', 'aaaaaaaaah', 'aaaaaaaahhhh', 'aaaaaah', 'aaaahhhs', 'aahs', 'aaliyah', 'aalyah', 'aamir', 'aardman', 'aaron', 'aatish', 'ab', 'aback', 'abandon', 'abandoned', 'abandoning', 'abandonment', 'abandons', 'abba', 'abbe', 'abberation', 'abberline', 'abbots', 'abbott', 'abbotts', 'abbreviated', 'abby', 'abc', 'abdomen', 'abducted', 'abductees', 'abduction', 'abductions', 'abe', 'abel', 'aberdeen', 'aberration', 'abetted', 'abetting', 'abeyance', 'abhorrence', 'abhorrent', 'abider', 'abides', 'abiding', 'abigail', 'abiility', 'abilities', 'ability', 'abject', 'ablaze', 'able', 'ably', 'abnormal', 'abnormally', 'abo', 'aboard', 'abode', 'abolish', 'abolitionist', 'abolitionists', 'abominable', 'abomination', 'aborginal', 'aboriginal', 'aboriginals', 'abort', 'aborted', 'abortion', 'abortionist', 'abortions', 'abortive', 'aboslutely', 'abound', 'abounded', 'abounding', 'abounds', 'abouts', 'abraded', 'abraham', 'abrahams', 'abrams', 'abrasive', 'abril', 'abroad', 'abrupt', 'abruptly', 'abs', 'absconded', 'absence', 'absences', 'absense', 'absent', 'absentee', 'absinthe', 'absoloute', 'absoltuely', 'absolute', 'absolutely', 'absolutes', 'absolution', 'absolutist', 'absolved', 'absorb', 'absorbant', 'absorbed', 'absorbing', 'absorbs', 'absorption', 'abstinence', 'abstract', 'abstraction', 'absurd', 'absurdism', 'absurdist', 'absurdities', 'absurdity', 'absurdly', 'abundance', 'abundant', 'abundantly', 'abundence', 'abuse', 'abused', 'abuser', 'abusers', 'abuses', 'abusing', 'abusive', 'abuzz', 'abysmal', 'abysmally', 'abyss', 'abyssinian', 'ac', 'academe', 'academia', 'academic', 'academics', 'academy', 'accelerate', 'accelerated', 'accelerates', 'accelerating', 'accelerator', 'accent', 'accented', 'accents', 'accentuate', 'accentuates', 'accentuating', 'accept', 'acceptable', 'acceptance', 'accepted', 'accepting', 'accepts', 'access', 'accessibility', 'accessible', 'accessorize', 'accessory', 'accident', 'accidental', 'accidentally', 'accidentlly', 'accidently', 'accidents', 'acclaim', 'acclaimed', 'acclimatize', 'accolade', 'accolades', 'accommodates', 'accommodating', 'accommodations', 'accompanied', 'accompanies', 'accompaniment', 'accompany', 'accompanying', 'accomplice', 'accomplices', 'accomplish', 'accomplished', 'accomplishes', 'accomplishing', 'accomplishment', 'accomplishments', 'accord', 'accordance', 'according', 'accordingly', 'accordion', 'accost', 'accosted', 'accosts', 'account', 'accountable', 'accountant', 'accountants', 'accounted', 'accounts', 'accumulate', 'accumulated', 'accumulation', 'accuracy', 'accurate', 'accurately', 'accursed', 'accusation', 'accusations', 'accuse', 'accused', 'accuser', 'accuses', 'accusing', 'accustomed', 'ace', 'acerbic', 'acerbity', 'aces', 'ache', 'acheivement', 'acheives', 'aches', 'achieve', 'achieved', 'achieveing', 'achievement', 'achievements', 'achiever', 'achieves', 'achieving', 'achilles', 'achingly', 'acid', 'acidic', 'aciton', 'ack', 'acknowledge', 'acknowledgeable', 'acknowledged', 'acknowledgement', 'acknowledges', 'acknowledging', 'acknowledgment', 'acme', 'acne', 'acore', 'acquaintance', 'acquaintances', 'acquainted', 'acquaints', 'acquiescence', 'acquire', 'acquired', 'acquires', 'acquisition', 'acquit', 'acquits', 'acquittal', 'acquitted', 'acre', 'acres', 'acrimonious', 'acrimony', 'acrobat', 'acrobatic', 'acrobatics', 'acrobats', 'acronym', 'act', 'acted', 'acting', 'action', 'actioner', 'actioners', 'actionfest', 'actionless', 'actions', 'activated', 'active', 'actively', 'activist', 'activists', 'activites', 'activities', 'activity', 'actor', 'actors', 'actosta', 'actress', 'actresses', 'acts', 'actual', 'actualisation', 'actuality', 'actualization', 'actualizing', 'actually', 'acuity', 'acumen', 'acupuncture', 'acute', 'acutely', 'ad', 'ad2am', 'adage', 'adair', 'adam', 'adamantly', 'adams', 'adamson', 'adandon', 'adapt', 'adaptable', 'adaptation', 'adaptations', 'adapted', 'adapters', 'adapting', 'adaption', 'adaptions', 'aday', 'add', 'addam', 'addams', 'added', 'addendum', 'addict', 'addicted', 'addiction', 'addictions', 'addictive', 'addictively', 'addicts', 'adding', 'addition', 'additional', 'additionally', 'additions', 'addled', 'address', 'addressed', 'addresses', 'addressing', 'adds', 'addy', 'ade', 'adefarasin', 'adele', 'adept', 'adeptly', 'adeptness', 'adepts', 'adequate', 'adequately', 'adhere', 'adherence', 'adheres', 'adhesive', 'adian', 'aditi', 'aditya', 'adjacent', 'adjani', 'adjective', 'adjectives', 'adjust', 'adjuster', 'adjusting', 'adjustment', 'adjustments', 'adjusts', 'adlai', 'administered', 'administering', 'administration', 'administrative', 'administrator', 'admirable', 'admirably', 'admiral', 'admirals', 'admiration', 'admire', 'admired', 'admirer', 'admirers', 'admires', 'admiring', 'admission', 'admit', 'admiting', 'admits', 'admittance', 'admitted', 'admittedly', 'admitting', 'admittingly', 'admonition', 'ado', 'adolescence', 'adolescent', 'adolescents', 'adolf', 'adolph', 'adopt', 'adopted', 'adopter', 'adopting', 'adoption', 'adoptive', 'adopts', 'adorable']\n"
     ]
    }
   ],
   "source": [
    "print(vectorizer.get_feature_names()[:1000])"
   ]
  },
  {
   "cell_type": "code",
   "execution_count": 12,
   "metadata": {},
   "outputs": [
    {
     "name": "stdout",
     "output_type": "stream",
     "text": [
      "[[0 0 0 ... 0 0 0]\n",
      " [0 0 0 ... 0 0 0]\n",
      " [0 0 0 ... 0 0 0]\n",
      " ...\n",
      " [0 0 0 ... 0 0 0]\n",
      " [0 0 0 ... 0 0 0]\n",
      " [0 0 0 ... 0 0 0]]\n"
     ]
    }
   ],
   "source": [
    "print(X_train.toarray()[:10])"
   ]
  },
  {
   "cell_type": "code",
   "execution_count": 13,
   "metadata": {},
   "outputs": [
    {
     "name": "stdout",
     "output_type": "stream",
     "text": [
      "  (0, 23918)\t2\n",
      "  (0, 15419)\t7\n",
      "  (0, 29713)\t1\n",
      "  (0, 2284)\t1\n",
      "  (0, 748)\t1\n",
      "  (0, 11560)\t1\n",
      "  (0, 23812)\t4\n",
      "  (0, 27240)\t2\n",
      "  (0, 1815)\t8\n",
      "  (0, 31475)\t1\n",
      "  (0, 24626)\t1\n",
      "  (0, 15435)\t3\n",
      "  (0, 32797)\t1\n",
      "  (0, 3346)\t1\n",
      "  (0, 10899)\t2\n",
      "  (0, 28854)\t1\n",
      "  (0, 5004)\t1\n",
      "  (0, 22100)\t1\n",
      "  (0, 35596)\t1\n",
      "  (0, 8829)\t2\n",
      "  (0, 20053)\t1\n",
      "  (0, 31496)\t1\n",
      "  (0, 17562)\t1\n",
      "  (0, 7539)\t1\n",
      "  (0, 8623)\t2\n",
      "  :\t:\n",
      "  (0, 13568)\t1\n",
      "  (0, 21870)\t1\n",
      "  (0, 35396)\t1\n",
      "  (0, 30899)\t1\n",
      "  (0, 32102)\t1\n",
      "  (0, 19183)\t1\n",
      "  (0, 15328)\t1\n",
      "  (0, 33097)\t1\n",
      "  (0, 2846)\t1\n",
      "  (0, 31148)\t1\n",
      "  (0, 29775)\t1\n",
      "  (0, 10606)\t1\n",
      "  (0, 17164)\t1\n",
      "  (0, 2082)\t1\n",
      "  (0, 5)\t8\n",
      "  (0, 2990)\t1\n",
      "  (0, 10044)\t1\n",
      "  (0, 13564)\t1\n",
      "  (0, 16472)\t1\n",
      "  (0, 20493)\t1\n",
      "  (0, 19576)\t1\n",
      "  (0, 23751)\t1\n",
      "  (0, 3557)\t1\n",
      "  (0, 29162)\t1\n",
      "  (0, 15105)\t1\n"
     ]
    }
   ],
   "source": [
    "print(X_train[0])"
   ]
  },
  {
   "cell_type": "code",
   "execution_count": 14,
   "metadata": {},
   "outputs": [
    {
     "name": "stdout",
     "output_type": "stream",
     "text": [
      "(1600, 35836)\n"
     ]
    }
   ],
   "source": [
    "print(X_train.shape)"
   ]
  },
  {
   "cell_type": "code",
   "execution_count": 15,
   "metadata": {},
   "outputs": [
    {
     "data": {
      "text/plain": [
       "MultinomialNB(alpha=1.0, class_prior=None, fit_prior=True)"
      ]
     },
     "execution_count": 15,
     "metadata": {},
     "output_type": "execute_result"
    }
   ],
   "source": [
    "# fit the model\n",
    "model = MultinomialNB()\n",
    "model.fit(X_train, y_train)"
   ]
  },
  {
   "cell_type": "code",
   "execution_count": 16,
   "metadata": {},
   "outputs": [],
   "source": [
    "# now test on the test set\n",
    "X_test = vectorizer.transform(docs_test)\n",
    "y_hat = model.predict(X_test)"
   ]
  },
  {
   "cell_type": "code",
   "execution_count": 17,
   "metadata": {},
   "outputs": [
    {
     "name": "stdout",
     "output_type": "stream",
     "text": [
      "accuracy is:  0.8275\n"
     ]
    }
   ],
   "source": [
    "print(\"accuracy is: \", metrics.accuracy_score(y_test, y_hat))"
   ]
  },
  {
   "cell_type": "code",
   "execution_count": 18,
   "metadata": {},
   "outputs": [
    {
     "name": "stdout",
     "output_type": "stream",
     "text": [
      "classification report:                precision    recall  f1-score   support\n",
      "\n",
      "           0       0.85      0.81      0.83       203\n",
      "           1       0.81      0.85      0.83       197\n",
      "\n",
      "    accuracy                           0.83       400\n",
      "   macro avg       0.83      0.83      0.83       400\n",
      "weighted avg       0.83      0.83      0.83       400\n",
      "\n"
     ]
    }
   ],
   "source": [
    "print(\"classification report: \", metrics.classification_report(y_test, y_hat))"
   ]
  },
  {
   "cell_type": "code",
   "execution_count": null,
   "metadata": {},
   "outputs": [],
   "source": []
  }
 ],
 "metadata": {
  "kernelspec": {
   "display_name": "Python 3",
   "language": "python",
   "name": "python3"
  },
  "language_info": {
   "codemirror_mode": {
    "name": "ipython",
    "version": 3
   },
   "file_extension": ".py",
   "mimetype": "text/x-python",
   "name": "python",
   "nbconvert_exporter": "python",
   "pygments_lexer": "ipython3",
   "version": "3.7.4"
  }
 },
 "nbformat": 4,
 "nbformat_minor": 1
}
