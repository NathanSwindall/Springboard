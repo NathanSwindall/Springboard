{
 "cells": [
  {
   "cell_type": "markdown",
   "metadata": {},
   "source": [
    "## Asynchronous Python Learning Websites\n",
    "\n",
    "\n",
    "* https://realpython.com/async-io-python/\n",
    "* https://realpython.com/python-async-features/\n",
    "* https://medium.com/velotio-perspectives/an-introduction-to-asynchronous-programming-in-python-af0189a88bbb\n",
    "* https://www.infoworld.com/article/3454442/get-started-with-async-in-python.html\n",
    "* https://dbader.org/blog/understanding-asynchronous-programming-in-python\n",
    "* https://realpython.com/introduction-to-python-generators/\n",
    "\n",
    "* creating enivronments in Jupyter notebooks to not mess up your code for other projects\n",
    "* https://stackoverflow.com/questions/37085665/in-which-conda-environment-is-jupyter-executing#:~:text=You%20can%20also%20create%20new,Python%20environment%20from%20the%20list."
   ]
  },
  {
   "cell_type": "code",
   "execution_count": null,
   "metadata": {},
   "outputs": [],
   "source": [
    "# commands for creating new jupyter environments\n",
    "# conda create -n new_env\n",
    "# conda env list (* is byt he one that is active)\n",
    "# conda activate new_env"
   ]
  },
  {
   "cell_type": "code",
   "execution_count": 1,
   "metadata": {},
   "outputs": [],
   "source": [
    "# https://realpython.com/python-async-features/\n",
    "import queue"
   ]
  },
  {
   "cell_type": "code",
   "execution_count": 2,
   "metadata": {},
   "outputs": [],
   "source": [
    "# First example\n",
    "# This is a synchrounous task\n",
    "\n",
    "def task(name, work_queue):\n",
    "    if work_queue.empty():\n",
    "        print(f\"Task {name} nothing to do\")\n",
    "    else:\n",
    "        while not work_queue.empty():\n",
    "            count = work_queue.get()\n",
    "            total = 0\n",
    "            print(f\"Task {name} running\")\n",
    "            for x in range(count):\n",
    "                total += 1\n",
    "            print(f\"Task {name} total: {total}\")\n",
    "\n",
    "def main_1():\n",
    "    \"\"\"\n",
    "    This is the main entry point for the program\n",
    "    \"\"\"\n",
    "    # Create the queue of work\n",
    "    work_queue = queue.Queue()\n",
    "\n",
    "    # Put some work in the queue\n",
    "    for work in [15, 10, 5, 2]:\n",
    "        work_queue.put(work)\n",
    "\n",
    "    # Create some synchronous tasks\n",
    "    tasks = [(task, \"One\", work_queue), (task, \"Two\", work_queue)]\n",
    "\n",
    "    # Run the tasks\n",
    "    for t, n, q in tasks:\n",
    "        t(n, q)"
   ]
  },
  {
   "cell_type": "code",
   "execution_count": 4,
   "metadata": {},
   "outputs": [
    {
     "name": "stdout",
     "output_type": "stream",
     "text": [
      "Task One running\n",
      "Task One total: 15\n",
      "Task One running\n",
      "Task One total: 10\n",
      "Task One running\n",
      "Task One total: 5\n",
      "Task One running\n",
      "Task One total: 2\n",
      "Task Two nothing to do\n"
     ]
    }
   ],
   "source": [
    "main_1()"
   ]
  },
  {
   "cell_type": "code",
   "execution_count": 5,
   "metadata": {},
   "outputs": [
    {
     "name": "stdout",
     "output_type": "stream",
     "text": [
      "Task One running\n",
      "Task Two running\n",
      "Task Two total: 10\n",
      "Task Two running\n",
      "Task One total: 15\n",
      "Task One running\n",
      "Task Two total: 5\n",
      "Task One total: 2\n"
     ]
    }
   ],
   "source": [
    "# This is a simple concurrency example\n",
    "import queue\n",
    "\n",
    "def task(name, queue):\n",
    "    while not queue.empty():\n",
    "        count = queue.get()\n",
    "        total = 0\n",
    "        print(f\"Task {name} running\")\n",
    "        for x in range(count):\n",
    "            total += 1\n",
    "            yield\n",
    "        print(f\"Task {name} total: {total}\")\n",
    "\n",
    "def main():\n",
    "    \"\"\"\n",
    "    This is the main entry point for the program\n",
    "    \"\"\"\n",
    "    # Create the queue of work\n",
    "    work_queue = queue.Queue()\n",
    "\n",
    "    # Put some work in the queue\n",
    "    for work in [15, 10, 5, 2]:\n",
    "        work_queue.put(work)\n",
    "\n",
    "    # Create some tasks\n",
    "    tasks = [task(\"One\", work_queue), task(\"Two\", work_queue)]\n",
    "\n",
    "    # Run the tasks\n",
    "    done = False\n",
    "    while not done:\n",
    "        for t in tasks:\n",
    "            try:\n",
    "                next(t)\n",
    "            except StopIteration:\n",
    "                tasks.remove(t)\n",
    "            if len(tasks) == 0:\n",
    "                done = True\n",
    "                \n",
    "                \n",
    "main()"
   ]
  },
  {
   "cell_type": "markdown",
   "metadata": {},
   "source": [
    "## Using generators\n",
    " https://realpython.com/introduction-to-python-generators/"
   ]
  },
  {
   "cell_type": "code",
   "execution_count": 1,
   "metadata": {},
   "outputs": [],
   "source": [
    "# An infinite generator\n",
    "def infinite_sequence():\n",
    "    num = 0\n",
    "    while True:\n",
    "        yield num\n",
    "        num += 1\n",
    "        \n",
    "        "
   ]
  },
  {
   "cell_type": "code",
   "execution_count": 4,
   "metadata": {},
   "outputs": [],
   "source": [
    "def is_palindrome(num):\n",
    "    # Skip single-digit inputs\n",
    "    if num // 10 == 0:\n",
    "        return False\n",
    "    temp = num\n",
    "    reversed_num = 0\n",
    "\n",
    "    while temp != 0:\n",
    "        reversed_num = (reversed_num * 10) + (temp % 10)\n",
    "        temp = temp // 10\n",
    "\n",
    "    if num == reversed_num:\n",
    "        return num\n",
    "    else:\n",
    "        return False"
   ]
  },
  {
   "cell_type": "code",
   "execution_count": 6,
   "metadata": {},
   "outputs": [
    {
     "name": "stdout",
     "output_type": "stream",
     "text": [
      "11\n",
      "22\n",
      "33\n",
      "44\n",
      "55\n",
      "66\n",
      "77\n",
      "88\n",
      "99\n",
      "101\n",
      "111\n",
      "121\n",
      "131\n",
      "141\n",
      "151\n",
      "161\n",
      "171\n",
      "181\n",
      "191\n",
      "202\n",
      "212\n",
      "222\n",
      "232\n",
      "242\n",
      "252\n",
      "262\n",
      "272\n",
      "282\n",
      "292\n",
      "303\n",
      "313\n",
      "323\n",
      "333\n",
      "343\n",
      "353\n",
      "363\n",
      "373\n",
      "383\n",
      "393\n",
      "404\n",
      "414\n",
      "424\n",
      "434\n",
      "444\n",
      "454\n",
      "464\n",
      "474\n",
      "484\n",
      "494\n",
      "505\n",
      "515\n",
      "525\n",
      "535\n",
      "545\n",
      "555\n",
      "565\n",
      "575\n",
      "585\n",
      "595\n",
      "606\n",
      "616\n",
      "626\n",
      "636\n",
      "646\n",
      "656\n",
      "666\n",
      "676\n",
      "686\n",
      "696\n",
      "707\n",
      "717\n",
      "727\n",
      "737\n",
      "747\n",
      "757\n",
      "767\n",
      "777\n",
      "787\n",
      "797\n",
      "808\n",
      "818\n",
      "828\n",
      "838\n",
      "848\n",
      "858\n",
      "868\n",
      "878\n",
      "888\n",
      "898\n",
      "909\n",
      "919\n",
      "929\n",
      "939\n",
      "949\n",
      "959\n",
      "969\n",
      "979\n",
      "989\n",
      "999\n",
      "1001\n",
      "1111\n",
      "1221\n",
      "1331\n",
      "1441\n",
      "1551\n",
      "1661\n",
      "1771\n",
      "1881\n",
      "1991\n",
      "2002\n",
      "2112\n",
      "2222\n",
      "2332\n",
      "2442\n",
      "2552\n",
      "2662\n",
      "2772\n",
      "2882\n",
      "2992\n",
      "3003\n",
      "3113\n",
      "3223\n",
      "3333\n",
      "3443\n",
      "3553\n",
      "3663\n",
      "3773\n",
      "3883\n",
      "3993\n",
      "4004\n",
      "4114\n",
      "4224\n",
      "4334\n",
      "4444\n",
      "4554\n",
      "4664\n",
      "4774\n",
      "4884\n",
      "4994\n",
      "5005\n",
      "5115\n",
      "5225\n",
      "5335\n",
      "5445\n",
      "5555\n",
      "5665\n",
      "5775\n",
      "5885\n",
      "5995\n",
      "6006\n",
      "6116\n",
      "6226\n",
      "6336\n",
      "6446\n",
      "6556\n",
      "6666\n",
      "6776\n",
      "6886\n",
      "6996\n",
      "7007\n",
      "7117\n",
      "7227\n",
      "7337\n",
      "7447\n",
      "7557\n",
      "7667\n",
      "7777\n",
      "7887\n",
      "7997\n",
      "8008\n",
      "8118\n",
      "8228\n",
      "8338\n",
      "8448\n",
      "8558\n",
      "8668\n",
      "8778\n",
      "8888\n",
      "8998\n",
      "9009\n",
      "9119\n",
      "9229\n",
      "9339\n",
      "9449\n",
      "9559\n",
      "9669\n",
      "9779\n",
      "9889\n",
      "9999\n"
     ]
    }
   ],
   "source": [
    "for i in infinite_sequence():\n",
    "    if i > 10000:\n",
    "        break\n",
    "    else:\n",
    "        if is_palindrome(i):\n",
    "            print(i)"
   ]
  },
  {
   "cell_type": "code",
   "execution_count": 9,
   "metadata": {},
   "outputs": [],
   "source": [
    "# we can do the same with itertools modlule\n",
    "import itertools\n",
    "for i in itertools.count():\n",
    "    if i > 100:\n",
    "        break\n"
   ]
  },
  {
   "cell_type": "code",
   "execution_count": 10,
   "metadata": {},
   "outputs": [],
   "source": [
    "# Creating generators like list comphrehensions\n",
    "nums_squared_lc = [num**2 for num in range(5)] # a list comprehension\n",
    "nums_squared_gc = (num**2 for num in range(5)) # a generator (uses not memeory)"
   ]
  },
  {
   "cell_type": "code",
   "execution_count": 15,
   "metadata": {},
   "outputs": [
    {
     "data": {
      "text/plain": [
       "87616"
      ]
     },
     "execution_count": 15,
     "metadata": {},
     "output_type": "execute_result"
    }
   ],
   "source": [
    "# profiing generator performance\n",
    "import sys\n",
    "nums_squared_lc = [i ** 2 for i in range(10000)]\n",
    "sys.getsizeof(nums_squared_lc)\n"
   ]
  },
  {
   "cell_type": "code",
   "execution_count": 16,
   "metadata": {},
   "outputs": [
    {
     "data": {
      "text/plain": [
       "112"
      ]
     },
     "execution_count": 16,
     "metadata": {},
     "output_type": "execute_result"
    }
   ],
   "source": [
    "nums_squared_gc = (i**2 for i  in range(10000))\n",
    "sys.getsizeof(nums_squared_gc)"
   ]
  },
  {
   "cell_type": "code",
   "execution_count": 17,
   "metadata": {},
   "outputs": [],
   "source": [
    "# lets get the speed of the two different things\n",
    "import cProfile"
   ]
  },
  {
   "cell_type": "code",
   "execution_count": 18,
   "metadata": {},
   "outputs": [
    {
     "name": "stdout",
     "output_type": "stream",
     "text": [
      "         5 function calls in 0.005 seconds\n",
      "\n",
      "   Ordered by: standard name\n",
      "\n",
      "   ncalls  tottime  percall  cumtime  percall filename:lineno(function)\n",
      "        1    0.005    0.005    0.005    0.005 <string>:1(<listcomp>)\n",
      "        1    0.000    0.000    0.005    0.005 <string>:1(<module>)\n",
      "        1    0.000    0.000    0.005    0.005 {built-in method builtins.exec}\n",
      "        1    0.000    0.000    0.000    0.000 {built-in method builtins.sum}\n",
      "        1    0.000    0.000    0.000    0.000 {method 'disable' of '_lsprof.Profiler' objects}\n",
      "\n",
      "\n"
     ]
    }
   ],
   "source": [
    "# See if the list comphrension is faster\n",
    "cProfile.run('sum([i**2 for i in range(10000)])')"
   ]
  },
  {
   "cell_type": "code",
   "execution_count": 19,
   "metadata": {},
   "outputs": [
    {
     "name": "stdout",
     "output_type": "stream",
     "text": [
      "         10005 function calls in 0.016 seconds\n",
      "\n",
      "   Ordered by: standard name\n",
      "\n",
      "   ncalls  tottime  percall  cumtime  percall filename:lineno(function)\n",
      "    10001    0.010    0.000    0.010    0.000 <string>:1(<genexpr>)\n",
      "        1    0.000    0.000    0.016    0.016 <string>:1(<module>)\n",
      "        1    0.000    0.000    0.016    0.016 {built-in method builtins.exec}\n",
      "        1    0.006    0.006    0.016    0.016 {built-in method builtins.sum}\n",
      "        1    0.000    0.000    0.000    0.000 {method 'disable' of '_lsprof.Profiler' objects}\n",
      "\n",
      "\n"
     ]
    }
   ],
   "source": [
    "# See the speed of the generator\n",
    "cProfile.run('sum((i ** 2 for i in range(10000)))')"
   ]
  },
  {
   "cell_type": "code",
   "execution_count": 25,
   "metadata": {},
   "outputs": [
    {
     "name": "stdout",
     "output_type": "stream",
     "text": [
      "0\n",
      "1\n",
      "2\n",
      "3\n",
      "4\n",
      "5\n",
      "6\n",
      "7\n",
      "8\n",
      "9\n",
      "10\n",
      "12\n",
      "13\n",
      "14\n",
      "15\n",
      "16\n",
      "17\n",
      "18\n",
      "19\n",
      "20\n"
     ]
    }
   ],
   "source": [
    "# make a function that returns a generator\n",
    "def my_gen_func():\n",
    "    for i in range(1000):\n",
    "        yield i\n",
    "        \n",
    "my_gen = my_gen_func()\n",
    "\n",
    "for i in my_gen:\n",
    "    if i > 10:\n",
    "        break\n",
    "    print(i)\n",
    "    \n",
    "def new_gen():\n",
    "    for i in my_gen:\n",
    "        yield i\n",
    "        \n",
    "n_gen = new_gen()\n",
    "\n",
    "# notice that the gen cannot be reused\n",
    "for i in n_gen:\n",
    "    if i > 20:\n",
    "        break\n",
    "    print(i)"
   ]
  },
  {
   "cell_type": "code",
   "execution_count": 29,
   "metadata": {},
   "outputs": [],
   "source": [
    "# showing how to use the the yield statment\n",
    "def multi_yield():\n",
    "    yield_str = \"This will print the first string\"\n",
    "    yield yield_str\n",
    "    yield_str = \"This will print the second string\"\n",
    "    yield yield_str\n",
    "    \n",
    "multi_gen = multi_yield()"
   ]
  },
  {
   "cell_type": "code",
   "execution_count": 27,
   "metadata": {},
   "outputs": [
    {
     "data": {
      "text/plain": [
       "<generator object multi_yield at 0x7f6528007ac0>"
      ]
     },
     "execution_count": 27,
     "metadata": {},
     "output_type": "execute_result"
    }
   ],
   "source": [
    "multi_gen"
   ]
  },
  {
   "cell_type": "code",
   "execution_count": 30,
   "metadata": {},
   "outputs": [
    {
     "name": "stdout",
     "output_type": "stream",
     "text": [
      "This will print the first string\n",
      "This will print the second string\n"
     ]
    }
   ],
   "source": [
    "for i in multi_gen:\n",
    "    print(i)"
   ]
  },
  {
   "cell_type": "code",
   "execution_count": 34,
   "metadata": {},
   "outputs": [],
   "source": [
    "# a new way to use generators\n",
    "# This function is pretty easy because we are just finding palidrome\n",
    "def is_palindrome(num):\n",
    "    # Skip single-digit inputs\n",
    "    if num // 10 == 0:\n",
    "        return False\n",
    "    temp = num\n",
    "    reversed_num = 0\n",
    "\n",
    "    while temp != 0:\n",
    "        reversed_num = (reversed_num * 10) + (temp % 10)\n",
    "        temp = temp // 10\n",
    "\n",
    "    if num == reversed_num:\n",
    "        return True\n",
    "    else:\n",
    "        return False"
   ]
  },
  {
   "cell_type": "code",
   "execution_count": 38,
   "metadata": {},
   "outputs": [],
   "source": [
    "def infinite_palindromes():\n",
    "    num = 0\n",
    "    while True:\n",
    "        if is_palindrome(num):\n",
    "            i = (yield num)\n",
    "            if i is not None:\n",
    "                print(num,i)\n",
    "                num = i\n",
    "\n",
    "        num += 1"
   ]
  },
  {
   "cell_type": "code",
   "execution_count": 39,
   "metadata": {},
   "outputs": [
    {
     "name": "stdout",
     "output_type": "stream",
     "text": [
      "11 100\n",
      "111 1000\n",
      "1111 10000\n",
      "10101 100000\n",
      "101101 1000000\n",
      "1001001 10000000\n",
      "10011001 100000000\n",
      "100010001 1000000000\n",
      "1000110001 10000000000\n",
      "10000100001 100000000000\n",
      "100001100001 1000000000000\n",
      "1000001000001 10000000000000\n",
      "10000011000001 100000000000000\n"
     ]
    },
    {
     "ename": "KeyboardInterrupt",
     "evalue": "",
     "output_type": "error",
     "traceback": [
      "\u001b[0;31m---------------------------------------------------------------------------\u001b[0m",
      "\u001b[0;31mKeyboardInterrupt\u001b[0m                         Traceback (most recent call last)",
      "\u001b[0;32m<ipython-input-39-d901a1e3a34e>\u001b[0m in \u001b[0;36m<module>\u001b[0;34m\u001b[0m\n\u001b[1;32m      1\u001b[0m \u001b[0mpal_gen\u001b[0m \u001b[0;34m=\u001b[0m \u001b[0minfinite_palindromes\u001b[0m\u001b[0;34m(\u001b[0m\u001b[0;34m)\u001b[0m\u001b[0;34m\u001b[0m\u001b[0;34m\u001b[0m\u001b[0m\n\u001b[0;32m----> 2\u001b[0;31m \u001b[0;32mfor\u001b[0m \u001b[0mi\u001b[0m \u001b[0;32min\u001b[0m \u001b[0mpal_gen\u001b[0m\u001b[0;34m:\u001b[0m\u001b[0;34m\u001b[0m\u001b[0;34m\u001b[0m\u001b[0m\n\u001b[0m\u001b[1;32m      3\u001b[0m     \u001b[0mdigits\u001b[0m \u001b[0;34m=\u001b[0m \u001b[0mlen\u001b[0m\u001b[0;34m(\u001b[0m\u001b[0mstr\u001b[0m\u001b[0;34m(\u001b[0m\u001b[0mi\u001b[0m\u001b[0;34m)\u001b[0m\u001b[0;34m)\u001b[0m\u001b[0;34m\u001b[0m\u001b[0;34m\u001b[0m\u001b[0m\n\u001b[1;32m      4\u001b[0m     \u001b[0mpal_gen\u001b[0m\u001b[0;34m.\u001b[0m\u001b[0msend\u001b[0m\u001b[0;34m(\u001b[0m\u001b[0;36m10\u001b[0m \u001b[0;34m**\u001b[0m \u001b[0;34m(\u001b[0m\u001b[0mdigits\u001b[0m\u001b[0;34m)\u001b[0m\u001b[0;34m)\u001b[0m\u001b[0;34m\u001b[0m\u001b[0;34m\u001b[0m\u001b[0m\n",
      "\u001b[0;32m<ipython-input-38-6658338be2d4>\u001b[0m in \u001b[0;36minfinite_palindromes\u001b[0;34m()\u001b[0m\n\u001b[1;32m      2\u001b[0m     \u001b[0mnum\u001b[0m \u001b[0;34m=\u001b[0m \u001b[0;36m0\u001b[0m\u001b[0;34m\u001b[0m\u001b[0;34m\u001b[0m\u001b[0m\n\u001b[1;32m      3\u001b[0m     \u001b[0;32mwhile\u001b[0m \u001b[0;32mTrue\u001b[0m\u001b[0;34m:\u001b[0m\u001b[0;34m\u001b[0m\u001b[0;34m\u001b[0m\u001b[0m\n\u001b[0;32m----> 4\u001b[0;31m         \u001b[0;32mif\u001b[0m \u001b[0mis_palindrome\u001b[0m\u001b[0;34m(\u001b[0m\u001b[0mnum\u001b[0m\u001b[0;34m)\u001b[0m\u001b[0;34m:\u001b[0m\u001b[0;34m\u001b[0m\u001b[0;34m\u001b[0m\u001b[0m\n\u001b[0m\u001b[1;32m      5\u001b[0m             \u001b[0mi\u001b[0m \u001b[0;34m=\u001b[0m \u001b[0;34m(\u001b[0m\u001b[0;32myield\u001b[0m \u001b[0mnum\u001b[0m\u001b[0;34m)\u001b[0m\u001b[0;34m\u001b[0m\u001b[0;34m\u001b[0m\u001b[0m\n\u001b[1;32m      6\u001b[0m             \u001b[0;32mif\u001b[0m \u001b[0mi\u001b[0m \u001b[0;32mis\u001b[0m \u001b[0;32mnot\u001b[0m \u001b[0;32mNone\u001b[0m\u001b[0;34m:\u001b[0m\u001b[0;34m\u001b[0m\u001b[0;34m\u001b[0m\u001b[0m\n",
      "\u001b[0;32m<ipython-input-34-4be5b98c586c>\u001b[0m in \u001b[0;36mis_palindrome\u001b[0;34m(num)\u001b[0m\n\u001b[1;32m     10\u001b[0m     \u001b[0;32mwhile\u001b[0m \u001b[0mtemp\u001b[0m \u001b[0;34m!=\u001b[0m \u001b[0;36m0\u001b[0m\u001b[0;34m:\u001b[0m\u001b[0;34m\u001b[0m\u001b[0;34m\u001b[0m\u001b[0m\n\u001b[1;32m     11\u001b[0m         \u001b[0mreversed_num\u001b[0m \u001b[0;34m=\u001b[0m \u001b[0;34m(\u001b[0m\u001b[0mreversed_num\u001b[0m \u001b[0;34m*\u001b[0m \u001b[0;36m10\u001b[0m\u001b[0;34m)\u001b[0m \u001b[0;34m+\u001b[0m \u001b[0;34m(\u001b[0m\u001b[0mtemp\u001b[0m \u001b[0;34m%\u001b[0m \u001b[0;36m10\u001b[0m\u001b[0;34m)\u001b[0m\u001b[0;34m\u001b[0m\u001b[0;34m\u001b[0m\u001b[0m\n\u001b[0;32m---> 12\u001b[0;31m         \u001b[0mtemp\u001b[0m \u001b[0;34m=\u001b[0m \u001b[0mtemp\u001b[0m \u001b[0;34m//\u001b[0m \u001b[0;36m10\u001b[0m\u001b[0;34m\u001b[0m\u001b[0;34m\u001b[0m\u001b[0m\n\u001b[0m\u001b[1;32m     13\u001b[0m \u001b[0;34m\u001b[0m\u001b[0m\n\u001b[1;32m     14\u001b[0m     \u001b[0;32mif\u001b[0m \u001b[0mnum\u001b[0m \u001b[0;34m==\u001b[0m \u001b[0mreversed_num\u001b[0m\u001b[0;34m:\u001b[0m\u001b[0;34m\u001b[0m\u001b[0;34m\u001b[0m\u001b[0m\n",
      "\u001b[0;31mKeyboardInterrupt\u001b[0m: "
     ]
    }
   ],
   "source": [
    "# This is just sending the result of the operation back so the yield is different. It then goes up from there\n",
    "pal_gen = infinite_palindromes()\n",
    "for i in pal_gen:\n",
    "    digits = len(str(i))\n",
    "    pal_gen.send(10 ** (digits))\n",
    "    \n"
   ]
  },
  {
   "cell_type": "code",
   "execution_count": 37,
   "metadata": {},
   "outputs": [
    {
     "ename": "TypeError",
     "evalue": "object of type 'int' has no len()",
     "output_type": "error",
     "traceback": [
      "\u001b[0;31m---------------------------------------------------------------------------\u001b[0m",
      "\u001b[0;31mTypeError\u001b[0m                                 Traceback (most recent call last)",
      "\u001b[0;32m<ipython-input-37-259a5f0bada9>\u001b[0m in \u001b[0;36m<module>\u001b[0;34m\u001b[0m\n\u001b[0;32m----> 1\u001b[0;31m \u001b[0mlen\u001b[0m\u001b[0;34m(\u001b[0m\u001b[0;36m100\u001b[0m\u001b[0;34m)\u001b[0m\u001b[0;34m\u001b[0m\u001b[0;34m\u001b[0m\u001b[0m\n\u001b[0m",
      "\u001b[0;31mTypeError\u001b[0m: object of type 'int' has no len()"
     ]
    }
   ],
   "source": []
  },
  {
   "cell_type": "code",
   "execution_count": null,
   "metadata": {},
   "outputs": [],
   "source": []
  }
 ],
 "metadata": {
  "kernelspec": {
   "display_name": "Python 3",
   "language": "python",
   "name": "python3"
  },
  "language_info": {
   "codemirror_mode": {
    "name": "ipython",
    "version": 3
   },
   "file_extension": ".py",
   "mimetype": "text/x-python",
   "name": "python",
   "nbconvert_exporter": "python",
   "pygments_lexer": "ipython3",
   "version": "3.8.5"
  }
 },
 "nbformat": 4,
 "nbformat_minor": 4
}
