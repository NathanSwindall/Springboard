{
 "cells": [
  {
   "cell_type": "markdown",
   "metadata": {},
   "source": [
    "## Objects\n",
    "\n",
    "Suppose we are going to handle various characters from Game of Thrones. Specifically, have the following pieces of information:\n",
    "* name\n",
    "* gender\n",
    "* house\n",
    "* quotes\n",
    "\n",
    "For example,\n",
    "* name: `Tyrion Lannister`, \n",
    "* gender: `Male`\n",
    "* house: `Lannister`, \n",
    "* quotes:\n",
    "```[\"It was your blade I needed, not your love.\",\n",
    "    \"I am not questioning your honor, I am denying its existence.\",\n",
    "    \"It’s not easy being drunk all the time. If it were easy, everyone would do it.\",\n",
    "    ...]\n",
    "```\n",
    "\n",
    "There are several ways to do this; what are they?\n",
    "\n",
    "Let's talk about creating our own **type** of data: GOT Character. A user-defined type is also called a class. A class definition looks like this:"
   ]
  },
  {
   "cell_type": "code",
   "execution_count": null,
   "metadata": {},
   "outputs": [],
   "source": [
    "class GoTCharacter(object):\n",
    "    \"\"\"A Game of Thrones character\"\"\""
   ]
  },
  {
   "cell_type": "markdown",
   "metadata": {},
   "source": [
    "This header indicates that the new class is a `GoTCharacter`, which is a kind of `object`, which is a built-in generic type.\n",
    "\n",
    "We can now associate the various **attributes** with the user-defined GoTCharacter type:"
   ]
  },
  {
   "cell_type": "code",
   "execution_count": 3,
   "metadata": {},
   "outputs": [],
   "source": [
    "class GoTCharacter(object):\n",
    "    \"\"\"A Game of Thrones character\"\"\"\n",
    "    \n",
    "    def __init__(self):\n",
    "        self.name = \"\"\n",
    "        self.gender = \"\"\n",
    "        self.house = \"\"\n",
    "        self.quotes = []"
   ]
  },
  {
   "cell_type": "markdown",
   "metadata": {},
   "source": [
    "To declare a variable of the type GoTCharacter, we type:"
   ]
  },
  {
   "cell_type": "code",
   "execution_count": 4,
   "metadata": {},
   "outputs": [],
   "source": [
    "my_char = GoTCharacter()"
   ]
  },
  {
   "cell_type": "markdown",
   "metadata": {},
   "source": [
    "We can then populate the tyrion **object** with information:"
   ]
  },
  {
   "cell_type": "code",
   "execution_count": 5,
   "metadata": {},
   "outputs": [],
   "source": [
    "my_char.name = \"Tyrion\"\n",
    "my_char.gender = \"male\"\n",
    "my_char.house = \"Lannister\"\n",
    "my_char.quotes = [\"It was your blade I needed, not your love.\",\n",
    "  \"I am not questioning your honor, I am denying its existence.\",\n",
    "  \"It’s not easy being drunk all the time. If it were easy, everyone would do it.\"]"
   ]
  },
  {
   "cell_type": "markdown",
   "metadata": {},
   "source": [
    "We can require that whenever a GoTCharacter gets created, name/gender/house information has to be available:"
   ]
  },
  {
   "cell_type": "code",
   "execution_count": 12,
   "metadata": {},
   "outputs": [
    {
     "name": "stdout",
     "output_type": "stream",
     "text": [
      "Tyrion Male Lannister\n"
     ]
    },
    {
     "data": {
      "text/plain": [
       "'Tyrion Male Lannister'"
      ]
     },
     "execution_count": 12,
     "metadata": {},
     "output_type": "execute_result"
    }
   ],
   "source": [
    "class GoTCharacter(object):\n",
    "    \"\"\"A Game of Thrones character\"\"\"\n",
    "    \n",
    "    def __init__(self, name, gender, house):\n",
    "        self.name = name\n",
    "        self.gender = gender\n",
    "        self.house = house\n",
    "        self.quotes = []\n",
    "        \n",
    "    def __repr__(self):\n",
    "        return self.name+\" \"+self.gender+\" \"+self.house\n",
    "    \n",
    "#     def __str__(self):\n",
    "#         return self.name+\" \"+self.gender+\" \"+self.house\n",
    "        \n",
    "my_char = GoTCharacter(\"Tyrion\", \"Male\", \"Lannister\")\n",
    "print(my_char)\n",
    "str(my_char)"
   ]
  },
  {
   "cell_type": "markdown",
   "metadata": {},
   "source": [
    "Attributes are mutable:"
   ]
  },
  {
   "cell_type": "code",
   "execution_count": 13,
   "metadata": {},
   "outputs": [],
   "source": [
    "my_char.name = \"Cersei\""
   ]
  },
  {
   "cell_type": "markdown",
   "metadata": {},
   "source": [
    "We could put functions inside a class; these functions are called **methods**:"
   ]
  },
  {
   "cell_type": "code",
   "execution_count": 14,
   "metadata": {},
   "outputs": [
    {
     "data": {
      "text/plain": [
       "Counter({'It': 1,\n",
       "         'was': 1,\n",
       "         'your': 3,\n",
       "         'blade': 1,\n",
       "         'I': 3,\n",
       "         'needed,': 1,\n",
       "         'not': 3,\n",
       "         'love.': 1,\n",
       "         'am': 2,\n",
       "         'questioning': 1,\n",
       "         'honor,': 1,\n",
       "         'denying': 1,\n",
       "         'its': 1,\n",
       "         'existence.': 1,\n",
       "         'It’s': 1,\n",
       "         'easy': 1,\n",
       "         'being': 1,\n",
       "         'drunk': 1,\n",
       "         'all': 1,\n",
       "         'the': 1,\n",
       "         'time.': 1,\n",
       "         'If': 1,\n",
       "         'it': 1,\n",
       "         'were': 1,\n",
       "         'easy,': 1,\n",
       "         'everyone': 1,\n",
       "         'would': 1,\n",
       "         'do': 1,\n",
       "         'it.': 1})"
      ]
     },
     "execution_count": 14,
     "metadata": {},
     "output_type": "execute_result"
    }
   ],
   "source": [
    "from collections import Counter\n",
    "\n",
    "class GoTCharacter(object):\n",
    "    \"\"\"A Game of Thrones character\"\"\"\n",
    "    \n",
    "    def __init__(self, name, gender, house):\n",
    "        self.name = name\n",
    "        self.gender = gender\n",
    "        self.house = house\n",
    "        self.quotes = []\n",
    "        \n",
    "    def quote_word_freq(self):\n",
    "        wfreq = Counter()\n",
    "        for q in self.quotes:\n",
    "            wfreq.update(q.split())\n",
    "        return wfreq\n",
    "    \n",
    "tyrion = GoTCharacter(\"Tyrion\", \"male\", \"Lannister\")\n",
    "tyrion.quotes = [\"It was your blade I needed, not your love.\",\n",
    "  \"I am not questioning your honor, I am denying its existence.\",\n",
    "  \"It’s not easy being drunk all the time. If it were easy, everyone would do it.\"]\n",
    "tyrion.quote_word_freq()"
   ]
  },
  {
   "cell_type": "code",
   "execution_count": null,
   "metadata": {},
   "outputs": [],
   "source": []
  }
 ],
 "metadata": {
  "kernelspec": {
   "display_name": "Python 3",
   "language": "python",
   "name": "python3"
  },
  "language_info": {
   "codemirror_mode": {
    "name": "ipython",
    "version": 3
   },
   "file_extension": ".py",
   "mimetype": "text/x-python",
   "name": "python",
   "nbconvert_exporter": "python",
   "pygments_lexer": "ipython3",
   "version": "3.7.4"
  }
 },
 "nbformat": 4,
 "nbformat_minor": 2
}
