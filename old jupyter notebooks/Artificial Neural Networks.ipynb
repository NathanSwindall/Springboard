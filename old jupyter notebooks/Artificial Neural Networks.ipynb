{
 "cells": [
  {
   "cell_type": "code",
   "execution_count": null,
   "metadata": {},
   "outputs": [],
   "source": [
    "# Dummy variables"
   ]
  },
  {
   "cell_type": "code",
   "execution_count": 21,
   "metadata": {},
   "outputs": [
    {
     "name": "stdout",
     "output_type": "stream",
     "text": [
      "[[619 'France' 'Female' ... 1 1 101348.88]\n",
      " [608 'Spain' 'Female' ... 0 1 112542.58]\n",
      " [502 'France' 'Female' ... 1 0 113931.57]\n",
      " ...\n",
      " [709 'France' 'Female' ... 0 1 42085.58]\n",
      " [772 'Germany' 'Male' ... 1 0 92888.52]\n",
      " [792 'France' 'Female' ... 1 0 38190.78]]\n"
     ]
    }
   ],
   "source": [
    "# data processing\n",
    "import numpy as np\n",
    "import matplotlib.pyplot as plt\n",
    "import pandas as pd\n",
    "\n",
    "# importing the dataset\n",
    "dataset = pd.read_csv('Churn_Modelling.csv')\n",
    "\n",
    "X = dataset.iloc[:, 3:13].values  # gets values from 3 to 12 (remember that 13 is not included) # puts into numpy array\n",
    "y = dataset.iloc[:,13].values # we put thirteen  for row thirteen here\n",
    "\n",
    "dataset.head(5)\n",
    "\n",
    "print(X)"
   ]
  },
  {
   "cell_type": "code",
   "execution_count": 22,
   "metadata": {},
   "outputs": [
    {
     "name": "stdout",
     "output_type": "stream",
     "text": [
      "[[0.0000000e+00 0.0000000e+00 6.1900000e+02 ... 1.0000000e+00\n",
      "  1.0000000e+00 1.0134888e+05]\n",
      " [0.0000000e+00 1.0000000e+00 6.0800000e+02 ... 0.0000000e+00\n",
      "  1.0000000e+00 1.1254258e+05]\n",
      " [0.0000000e+00 0.0000000e+00 5.0200000e+02 ... 1.0000000e+00\n",
      "  0.0000000e+00 1.1393157e+05]\n",
      " ...\n",
      " [0.0000000e+00 0.0000000e+00 7.0900000e+02 ... 0.0000000e+00\n",
      "  1.0000000e+00 4.2085580e+04]\n",
      " [1.0000000e+00 0.0000000e+00 7.7200000e+02 ... 1.0000000e+00\n",
      "  0.0000000e+00 9.2888520e+04]\n",
      " [0.0000000e+00 0.0000000e+00 7.9200000e+02 ... 1.0000000e+00\n",
      "  0.0000000e+00 3.8190780e+04]]\n"
     ]
    },
    {
     "name": "stderr",
     "output_type": "stream",
     "text": [
      "C:\\Users\\Natha\\Anaconda3\\lib\\site-packages\\sklearn\\preprocessing\\_encoders.py:415: FutureWarning: The handling of integer data will change in version 0.22. Currently, the categories are determined based on the range [0, max(values)], while in the future they will be determined based on the unique values.\n",
      "If you want the future behaviour and silence this warning, you can specify \"categories='auto'\".\n",
      "In case you used a LabelEncoder before this OneHotEncoder to convert the categories to integers, then you can now use the OneHotEncoder directly.\n",
      "  warnings.warn(msg, FutureWarning)\n",
      "C:\\Users\\Natha\\Anaconda3\\lib\\site-packages\\sklearn\\preprocessing\\_encoders.py:451: DeprecationWarning: The 'categorical_features' keyword is deprecated in version 0.20 and will be removed in 0.22. You can use the ColumnTransformer instead.\n",
      "  \"use the ColumnTransformer instead.\", DeprecationWarning)\n"
     ]
    }
   ],
   "source": [
    "# because we have some categorical variables in our data, we need to turn them into numbers\n",
    "# I could use column transform with this \n",
    "\n",
    "\n",
    "# Encoding categorical data\n",
    "# are data contains two columns with categorical data\n",
    "# There is column 1 which has the countries 'France','Spain,'and German\n",
    "# There is also the other column which is 'Male' or 'Female'\n",
    "\n",
    "# We will start with countries\n",
    "# Sincer th\n",
    "from sklearn.preprocessing import LabelEncoder, OneHotEncoder\n",
    "\n",
    "# Let's use a function to do this. We will use labelencoder_X_1. \n",
    "labelencoder_X_1 = LabelEncoder() # This turn france, germany,spain into 0,1, and 2\n",
    "\n",
    "# let's get the right part of the data to change. We are changing the 1 column\n",
    "X[:,1] = labelencoder_X_1.fit_transform(X[:,1]) \n",
    "\n",
    "\n",
    "# Now let's do the same for the gender\n",
    "labelencoder_X_2 = LabelEncoder()\n",
    "\n",
    "# Now let's make the change\n",
    "X[:,2] = labelencoder_X_1.fit_transform(X[:,2]) \n",
    "\n",
    "# There is a problem though. We need to make sure our variables are not higher than each based on these number\n",
    "# that we just gave them. To do this we will create dummy variables\n",
    "onehotencoder = OneHotEncoder(categorical_features = [1])  # 1 is for the column we are making dummy variables off of\n",
    "X = onehotencoder.fit_transform(X).toarray()\n",
    "X = X[:,1:]\n",
    "\n",
    "\n",
    "print(X)"
   ]
  },
  {
   "cell_type": "code",
   "execution_count": 27,
   "metadata": {},
   "outputs": [
    {
     "name": "stdout",
     "output_type": "stream",
     "text": [
      "[[1.0 0.0 0.0 ... 1 1 101348.88]\n",
      " [0.0 0.0 1.0 ... 0 1 112542.58]\n",
      " [1.0 0.0 0.0 ... 1 0 113931.57]\n",
      " ...\n",
      " [1.0 0.0 0.0 ... 0 1 42085.58]\n",
      " [0.0 1.0 0.0 ... 1 0 92888.52]\n",
      " [1.0 0.0 0.0 ... 1 0 38190.78]]\n"
     ]
    }
   ],
   "source": [
    "# how can I use column transform instead?\n",
    "from sklearn.compose import ColumnTransformer\n",
    "\n",
    "# rerun all this code\n",
    "# data processing\n",
    "import numpy as np\n",
    "import matplotlib.pyplot as plt\n",
    "import pandas as pd\n",
    "\n",
    "# importing the dataset\n",
    "dataset = pd.read_csv('Churn_Modelling.csv')\n",
    "\n",
    "X = dataset.iloc[:, 3:13].values  # gets values from 3 to 12 (remember that 13 is not included) # puts into numpy array\n",
    "y = dataset.iloc[:,13].values # we put thirteen  for row thirteen here\n",
    "\n",
    "dataset.head(5)\n",
    "\n",
    "# now run this new code\n",
    "\n",
    "\n",
    "column_trans = ColumnTransformer(\n",
    "    [(\"countries\", OneHotEncoder(), [1]),\n",
    "    (\"gender\", OneHotEncoder(), [1])],\n",
    "    remainder='passthrough'\n",
    ")\n",
    "\n",
    "# dummy variable trap\n",
    "# you always omit one dummy variable. why is this? If you have 8, then you omit 1 and now have seven dummy variables\n",
    "\"\"\"\n",
    "Say you have male and female and you have two dummy variales. 1 if you\n",
    "Multicolinearity is when you have variables that are highly correlated with each other\n",
    "You want to avoid this\n",
    "\n",
    "To avoid this get rid of constant or you can to m-1 dummy variables\n",
    "https://www.youtube.com/watch?v=BMNuPwUD5EA\n",
    "https://www.youtube.com/watch?v=9yl6-HEY7_s\n",
    "\n",
    "\"\"\"\n",
    "x_train = column_trans.fit_transform(X)\n",
    "\n",
    "print(x_train)"
   ]
  },
  {
   "cell_type": "code",
   "execution_count": null,
   "metadata": {},
   "outputs": [],
   "source": [
    "# splitting the dataset into the Training set and Test set\n",
    "from sklearn.model_selection import train_test_split\n",
    "X_train, X_test, y_train, y_test = train_test_split(X, y, test_size = 0.25, random_state = 3)\n",
    "\n",
    "# Feature Scaling\n",
    "from sklearn.preprocessing import StandardScaler\n",
    "sc = StandardScaler()\n",
    "X_train = sc.fit_transform(X_train)\n",
    "X_test = sc.transform(X_test)\n",
    "\n",
    "# Fitting classifier to the Training set\n",
    "# create your classifier her\n",
    "\n",
    "# Predicting the Test set results\n",
    "y_pred = classifier.predict(X_test)\n",
    "\n",
    "# Making a confusion Matrix\n",
    "from sklearn.metrics import confusion_matrix\n",
    "cm = confusion_matrix(y_test, y_pred)"
   ]
  }
 ],
 "metadata": {
  "kernelspec": {
   "display_name": "Python 3",
   "language": "python",
   "name": "python3"
  },
  "language_info": {
   "codemirror_mode": {
    "name": "ipython",
    "version": 3
   },
   "file_extension": ".py",
   "mimetype": "text/x-python",
   "name": "python",
   "nbconvert_exporter": "python",
   "pygments_lexer": "ipython3",
   "version": "3.7.4"
  }
 },
 "nbformat": 4,
 "nbformat_minor": 2
}
